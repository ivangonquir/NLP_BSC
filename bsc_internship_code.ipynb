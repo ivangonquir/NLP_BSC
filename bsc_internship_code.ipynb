{
  "nbformat": 4,
  "nbformat_minor": 0,
  "metadata": {
    "colab": {
      "provenance": [],
      "authorship_tag": "ABX9TyNgMXmN9tgpj0xU11PPFf6B",
      "include_colab_link": true
    },
    "kernelspec": {
      "name": "python3",
      "display_name": "Python 3"
    },
    "language_info": {
      "name": "python"
    }
  },
  "cells": [
    {
      "cell_type": "markdown",
      "metadata": {
        "id": "view-in-github",
        "colab_type": "text"
      },
      "source": [
        "<a href=\"https://colab.research.google.com/github/ivangonquir/NLP_BSC/blob/main/bsc_internship_code.ipynb\" target=\"_parent\"><img src=\"https://colab.research.google.com/assets/colab-badge.svg\" alt=\"Open In Colab\"/></a>"
      ]
    },
    {
      "cell_type": "code",
      "source": [
        "!pip install tensorflow==2.15.0 tensorflow-hub keras==2.15.0"
      ],
      "metadata": {
        "id": "_Nd84qS6UOPU"
      },
      "execution_count": null,
      "outputs": []
    },
    {
      "cell_type": "code",
      "source": [
        "!pip show tensorflow keras tensorflow-hub"
      ],
      "metadata": {
        "id": "q-UPoX-jUZve"
      },
      "execution_count": null,
      "outputs": []
    },
    {
      "cell_type": "code",
      "source": [
        "\n",
        "\n",
        "'''\n",
        "sentences = [\n",
        "    'I love my dog',\n",
        "    'I love my cat',\n",
        "    'You love my dog!',\n",
        "    'Do you think my dog is amazing?'\n",
        "]\n",
        "\n",
        "\n",
        "tokenizer = Tokenizer(num_words = 100, oov_token = \"<OOV>\")\n",
        "tokenizer.fit_on_texts(sentences)\n",
        "word_index = tokenizer.word_index\n",
        "sequences = tokenizer.texts_to_sequences(sentences)\n",
        "padded = pad_sequences(sequences, padding = 'post', truncating = 'post', maxlen = 9)\n",
        "\n",
        "\n",
        "test_data = [\n",
        "    'I really love my dog',\n",
        "    'My dog loves my manatee'\n",
        "]\n",
        "test_sequences = tokenizer.texts_to_sequences(test_data)\n",
        "\n",
        "train, test = tfds.load(name = 'yelp_polarity_reviews',\n",
        "                        split = (tfds.Split.TRAIN,\n",
        "                                 tfds.Split.TEST),\n",
        "                        as_supervised = True\n",
        ")\n",
        "\n",
        "\n",
        "\n",
        "pretrained_model = \"https://tfhub.dev/google/tf2-preview/gnews-swivel-20dim/1\"\n",
        "hub_layer = hub.KerasLayer(pretrained_model, input_shape = [], dtype = tf.string, trainable = True)\n",
        "\n",
        "\n",
        "model = tf.keras.Sequential()\n",
        "\n",
        "model.add(hub_layer)\n",
        "model.add(tf.keras.layers.Dense(16, activation = 'relu'))\n",
        "model.add(tf.keras.layers.Dense(1, activation = 'sigmoid')) #We want to assign a probability between 0 (bad review) and 1 (good review)\n",
        "\n",
        "model.compile(\n",
        "    optimizer = 'adam',\n",
        "    loss = 'binary_crossentropy',\n",
        "    metrics = ['accuracy']\n",
        ")\n",
        "\n",
        "model.fit(train.shuffle(10000).batch(512),\n",
        "          epochs = 10,\n",
        "          verbose = 1)\n",
        "\n",
        "\n",
        "model.predict([\"The food is super good but the ambience is excellent, rather it exceeds expectations. The serving time is great\"])\n",
        "\n",
        "model.predict([\"The food was tasty and well presented, but we had to wait a lot of time in order to start our dinner. All in all, it was not a good experience.\"])\n",
        "\n",
        "\n",
        "# Implementing the Scaled-Dot Product Attention\n",
        "class DotProductAttention(Layer):\n",
        "    def __init__(self, **kwargs):\n",
        "        super(DotProductAttention, self).__init__(**kwargs)\n",
        "\n",
        "    def call(self, queries, keys, values, d_k, mask=None):\n",
        "        # Scoring the queries against the keys after transposing the latter, and scaling\n",
        "        scores = matmul(queries, keys, transpose_b=True) / math.sqrt(cast(d_k, float32))\n",
        "\n",
        "        # Apply mask to the attention scores\n",
        "        if mask is not None:\n",
        "            scores += -1e9 * mask\n",
        "\n",
        "        # Computing the weights by a softmax operation\n",
        "        weights = softmax(scores)\n",
        "\n",
        "        # Computing the attention by a weighted sum of the value vectors\n",
        "        return matmul(weights, values)\n",
        "\n",
        "# Implementing the Multi-Head Attention\n",
        "class MultiHeadAttention(Layer):\n",
        "    def __init__(self, h, d_k, d_v, d_model, **kwargs):\n",
        "        super(MultiHeadAttention, self).__init__(**kwargs)\n",
        "        self.attention = DotProductAttention()  # Scaled dot product attention\n",
        "        self.heads = h  # Number of attention heads to use\n",
        "        self.d_k = d_k  # Dimensionality of the linearly projected queries and keys\n",
        "        self.d_v = d_v  # Dimensionality of the linearly projected values\n",
        "        self.d_model = d_model  # Dimensionality of the model\n",
        "        self.W_q = Dense(d_k)  # Learned projection matrix for the queries\n",
        "        self.W_k = Dense(d_k)  # Learned projection matrix for the keys\n",
        "        self.W_v = Dense(d_v)  # Learned projection matrix for the values\n",
        "        self.W_o = Dense(d_model)  # Learned projection matrix for the multi-head output\n",
        "\n",
        "    def reshape_tensor(self, x, heads, flag):\n",
        "        if flag:\n",
        "            # Tensor shape after reshaping and transposing: (batch_size, heads, seq_length, -1)\n",
        "            x = tf.reshape(x, shape=(x.shape[0], x.shape[1], heads, -1))\n",
        "            x = tf.transpose(x, perm=(0, 2, 1, 3))\n",
        "        else:\n",
        "            # Reverting the reshaping and transposing operations: (batch_size, seq_length, d_k)\n",
        "            x = tf.transpose(x, perm=(0, 2, 1, 3))\n",
        "            x = tf.reshape(x, shape=(x.shape[0], x.shape[1], self.d_k))\n",
        "        return x\n",
        "\n",
        "    def call(self, queries, keys, values, mask=None):\n",
        "        # Rearrange the queries to be able to compute all heads in parallel\n",
        "        q_reshaped = self.reshape_tensor(self.W_q(queries), self.heads, True)\n",
        "        # Resulting tensor shape: (batch_size, heads, input_seq_length, -1)\n",
        "\n",
        "        # Rearrange the keys to be able to compute all heads in parallel\n",
        "        k_reshaped = self.reshape_tensor(self.W_k(keys), self.heads, True)\n",
        "        # Resulting tensor shape: (batch_size, heads, input_seq_length, -1)\n",
        "\n",
        "        # Rearrange the values to be able to compute all heads in parallel\n",
        "        v_reshaped = self.reshape_tensor(self.W_v(values), self.heads, True)\n",
        "        # Resulting tensor shape: (batch_size, heads, input_seq_length, -1)\n",
        "\n",
        "        # Compute the multi-head attention output using the reshaped queries, keys and values\n",
        "        o_reshaped = self.attention(q_reshaped, k_reshaped, v_reshaped, self.d_k, mask)\n",
        "        # Resulting tensor shape: (batch_size, heads, input_seq_length, -1)\n",
        "\n",
        "        # Rearrange back the output into concatenated form\n",
        "        output = self.reshape_tensor(o_reshaped, self.heads, False)\n",
        "        # Resulting tensor shape: (batch_size, input_seq_length, d_v)\n",
        "\n",
        "        # Apply one final linear projection to the output to generate the multi-head attention\n",
        "        # Resulting tensor shape: (batch_size, input_seq_length, d_model)\n",
        "        return self.W_o(output)\n",
        "\n",
        "\n",
        "h = 8 # Number of self-attention heads\n",
        "d_k = 64 # Dimensionality of the linearly projected queries and keys\n",
        "d_v = 64 # Dimensionality of the linearly projected values\n",
        "d_model = 512 # Dimensionality of the model sub-layers' outputs\n",
        "batch_size = 64 # Batch size from the training proces\n",
        "input_seq_length = 5 # Maximum length of the input sequence\n",
        "\n",
        "queries = np.random.random((batch_size, input_seq_length, d_k))\n",
        "keys = np.random.random((batch_size, input_seq_length, d_k))\n",
        "values = np.random.random((batch_size, input_seq_length, d_v))\n",
        "\n",
        "multihead_attention = MultiHeadAttention(h, d_k, d_v, d_model)\n",
        "\n",
        "\n",
        "sentence = \"Life is short, eat dessert first\"\n",
        "dc = {s:i for i,s in enumerate(sorted(sentence.replace(',','').split()))} #Capital letters go first\n",
        "sentence_int = torch.tensor(\n",
        "    [dc[s] for s in sentence.replace(',', '').split()]\n",
        ")\n",
        "\n",
        "multihead_attention(queries, keys, values)\n",
        "\n",
        "\n",
        "vocab_size = 50_000\n",
        "\n",
        "torch.manual_seed(123) #For reproducibility\n",
        "embed = torch.nn.Embedding(vocab_size, 3)\n",
        "embedded_sentence = embed(sentence_int).detach()\n",
        "embedded_sentence\n",
        "\n",
        "\n",
        "d_q, d_k, d_v = 2,2,4\n",
        "W_query = torch.nn.Parameter(torch.rand(d, d_q))\n",
        "W_key = torch.nn.Parameter(torch.rand(d, d_k))\n",
        "W_value = torch.nn.Parameter(torch.rand(d,d_v))\n",
        "\n",
        "x_2 = embedded_sentence[1]\n",
        "\n",
        "print(x_2)\n",
        "print(x_2.shape)\n",
        "\n",
        "query_2 = x_2 @ W_query # 1x3 x 3x2 = 1x2\n",
        "key_2 = x_2 @ W_key\n",
        "value_2 = x_2 @ W_value\n",
        "\n",
        "keys = embedded_sentence @ W_key\n",
        "values = embedded_sentence @ W_value\n",
        "\n",
        "omega_24 = query_2.dot(keys[4])\n",
        "\n",
        "omega_2 = query_2 @ keys.T\n",
        "omega_24, omega_2\n",
        "\n",
        "attention_weights_2 = F.softmax(omega_2 / d_k**0.5, dim = 0)\n",
        "attention_weights_2\n",
        "\n",
        "context_vector_2 = attention_weights_2 @ values\n",
        "context_vector_2\n",
        "\n",
        "class SelfAttention(nn.Module):\n",
        "\n",
        "  def __init__(self, d_in, d_out_kq, d_out_v):\n",
        "    super().__init__()\n",
        "    self.d_out_kq = d_out_kq\n",
        "    self.W_query = nn.Parameter(torch.rand(d_in, d_out_kq))\n",
        "    self.W_key = nn.Parameter(torch.rand(d_in, d_out_kq))\n",
        "    self.W_value = nn.Parameter(torch.rand(d_in, d_out_v))\n",
        "\n",
        "  def forward(self, x):\n",
        "    keys = x @ self.W_key\n",
        "    queries = x @ self.W_query\n",
        "    values = x @ self.W_value\n",
        "\n",
        "    attn_scores = queries @ keys.T #unnormalized attention weights\n",
        "    attn_weights = torch.softmax(\n",
        "        attn_scores / self.d_out_kq**0.5, dim = -1\n",
        "    )\n",
        "\n",
        "    context_vec = attn_weights @ values\n",
        "    return context_vec\n",
        "\n",
        "\n",
        "torch.manual_seed(123)\n",
        "\n",
        "d_in, d_out_kq, d_out_v = 3,2,4\n",
        "\n",
        "sa = SelfAttention(d_in, d_out_kq, d_out_v)\n",
        "\n",
        "sa(embedded_sentence)\n",
        "\n",
        "\n",
        "\n",
        "v1 = torch.tensor([[1,2,3], [-1,2,0]])\n",
        "v2 = torch.tensor([[4,5,6], [3,-2,1]])\n",
        "for j in range(-1,2):\n",
        "  print(torch.cat([v1, v2], dim = j))\n",
        "\n",
        "\n",
        "W_query = nn.Parameter(torch.rand(d_in, d_out_kq))\n",
        "W_query\n",
        "\n",
        "embedded_sentence[0]\n",
        "\n",
        "embedded_sentence[0] @ W_query\n",
        "\n",
        "W_query.T @ embedded_sentence[0]\n",
        "\n",
        "\n",
        "class MultiHeadAttentionWrapper(nn.Module):\n",
        "\n",
        "  def __init__(self, d_in, d_out_kq, d_out_v, num_heads):\n",
        "    super().__init__()\n",
        "    self.heads = nn.ModuleList(\n",
        "        [SelfAttention(d_in, d_out_kq, d_out_v)\n",
        "        for _ in range(num_heads)]\n",
        "    )\n",
        "\n",
        "  def forward(self, x):\n",
        "    return torch.cat([head(x) for head in self.heads], dim = -1)\n",
        "\n",
        "\n",
        "# 1 head\n",
        "\n",
        "torch.manual_seed(123)\n",
        "\n",
        "d_in, d_out_kq, d_out_v = 3,2,1\n",
        "\n",
        "sa = SelfAttention(d_in, d_out_kq, d_out_v)\n",
        "print(sa(embedded_sentence))\n",
        "\n",
        "\n",
        "# 4 attention heads\n",
        "\n",
        "torch.manual_seed(123)\n",
        "\n",
        "block_size = embedded_sentence.shape[1]\n",
        "mha = MultiHeadAttentionWrapper(\n",
        "    d_in, d_out_kq, d_out_v, num_heads = 4\n",
        ")\n",
        "\n",
        "context_vecs = mha(embedded_sentence)\n",
        "\n",
        "print(context_vecs)  #6x4 -> 6 input tokens and 4 self-attention heads\n",
        "\n",
        "'''\n",
        "We see that before we also had an output of dimension 6x4 by choosing\n",
        "`d_out_v` = 4. However, in MultiHeadAttention, each attention head can learn\n",
        "to focus on different parts of the input sequence, capturing various aspects\n",
        "or relationships within the data. It can also be more efficient in terms of\n",
        " parallel computing, since each head can be processed independently. In short,\n",
        "  multiple attention heads allow us to increase the model capacity, learn a\n",
        "   diverse set of features and relationships within the data.\n",
        "'''\n",
        "\n",
        "embedded_sentence.shape[1]\n",
        "\n",
        "\n",
        "class CrossAttention(nn.Module):\n",
        "\n",
        "  def __init__(self, d_in, d_out_kq, d_out_v):\n",
        "    super().__init__()\n",
        "    self.d_out_kq = d_out_kq\n",
        "    self.W_query = nn.Parameter(torch.rand(d_in, d_out_kq))\n",
        "    self.W_key = nn.Parameter(torch.rand(d_in, d_out_kq))\n",
        "    self.W_value = nn.Parameter(torch.rand(d_in, d_out_v))\n",
        "\n",
        "  def forward(self, x_1, x_2): # x_2 is new\n",
        "    queries_1 = x_1 @ self.W_query\n",
        "\n",
        "    keys_2 = x_2 @ self.W_key\n",
        "    values_2 = x_2 @ self.W_value\n",
        "\n",
        "    attn_scores = queries_1 @ keys_2.T\n",
        "    attn_weights = torch.softmax(\n",
        "        attn_scores / self.d_out_kq**0.5, dim = -1\n",
        "        )\n",
        "\n",
        "    context_vec = attn_weights @ values_2\n",
        "\n",
        "    return context_vec\n",
        "\n",
        "\n",
        "torch.manual_seed(123)\n",
        "\n",
        "d_in, d_out_kq, d_out_v = 3, 2, 4\n",
        "\n",
        "crossattn = CrossAttention(d_in, d_out_kq, d_out_v)\n",
        "\n",
        "first_input = embedded_sentence\n",
        "second_input = torch.rand(8, d_in)  #They don't have to have the same number of tokens\n",
        "                                    #but the dimension embedding must be the same\n",
        "\n",
        "print(\"First input shape:\", first_input.shape)\n",
        "print(\"Second input shape:\", second_input.shape)\n",
        "\n",
        "\n",
        "context_vectors = crossattn(first_input, second_input)\n",
        "print(context_vectors)\n",
        "print(context_vectors.shape)\n",
        "\n",
        "\n",
        "'''\n",
        "Cross attention is useful when we want to translate one input sentence\n",
        " into an output sentence, since sometimes we can't translate word by word in\n",
        " the same order and thus we need more information on the sourroundings of the word.\n",
        "'''\n",
        "\n",
        "'''\n",
        "\n",
        "\n",
        "\"\"\"\n",
        "PROCESS = INPUT EMBEDDING + ENCODER\n",
        "  ENCODER = POSITIONAL ENCODING + MULTI-HEAD ATTENTION + ADD & NORM + FEED FORWARD + ADD & NORM.\n",
        "\n",
        "\n",
        "  x = [\"How are you?\",\n",
        "        \"I'm fine, thanks\"\n",
        "\n",
        "2. POSITIONAL ENCODING: We provide information to the input embeddings to provide information about the position of each\n",
        "  token in the sequence.\n",
        "x = How are you?\n",
        "\"\"\"\n",
        "class MultiHeadAttention(nn.Module):\n",
        "\tdef __init__(self, d_model, num_heads, p, d_input = None):\n",
        "\t\tsuper().__init__()\n",
        "\t\tself.num_heads = num_heads\n",
        "\t\tself.d_model = d_model\n",
        "\t\tif d_input is None:\n",
        "\t\t\td_xq = d_xk = d_xv = d_model\n",
        "\t\telse:\n",
        "\t\t\t# if d_input is provided, it becomes cross attention, otherwise its self-attention\n",
        "\t\t\td_xq, d_xk, d_xv = d_input\n",
        "\n",
        "\t\tassert d_model % self.num_heads == 0\n",
        "\t\tself.d_k = d_model // self.num_heads\n",
        "\n",
        "\t\tself.W_q = nn.Linear(d_xq, d_model, bias = False)\n",
        "\t\tself.W_k = nn.Linear(d_xk, d_model, bias = False)\n",
        "\t\tself.W_v = nn.Linear(d_xv, d_model, bias = False)\n",
        "\t\tself.W_h = nn.Linear(d_model, d_model)\n",
        "\n",
        "\tdef scaled_dot_product_attention(self, Q, K, V):\n",
        "\t\tbatch_size = Q.size(0)\n",
        "\t\tk_length = K.size(-2)\n",
        "\n",
        "\t\tQ = Q/np.sqrt(self.d_k)\n",
        "\t\tscores = torch.matmul(Q, K.transpose(2,3))\n",
        "\n",
        "\t\tA = nn_Softargmax(dim = -1)(scores)\n",
        "\n",
        "\t\tH = torch.matmul(A,V)\n",
        "\n",
        "\t\treturn H, A\n",
        "\n",
        "\tdef split_heads(self, x, batch_size):\n",
        "\t\treturn x.view(batch_size, -1, self.num_heads, self.d_k).transpose(1,2)\n",
        "\n",
        "\tdef group_heads(self, x, batch_size):\n",
        "\t\treturn x.transpose(1,2).contiguous().view(batch_size, -1, self.num_heads * self.d_k)\n",
        "\n",
        "\tdef forward(self, X_q, X_k, X_v):\n",
        "\t\tbatch_size, seq_length, dim = X_q.size()\n",
        "\n",
        "\t\tQ = self.split_heads(self.W_q(X_q), batch_size)\n",
        "\t\tK = self.split_heads(self.W_k(X_k), batch_size)\n",
        "\t\tV = self.split_heads(self.W_v(X_v), batch_size)\n",
        "\n",
        "\t\tH_cat, A = self.scaled_dot_product_attention(Q,K,V)\n",
        "\t\tH_cat = self.group_heads(H_cat, batch_size)\n",
        "\t\tH = self.W_h(H_cat)\n",
        "\n",
        "\t\treturn H,A\n",
        "\n",
        "\n",
        "\n",
        "class EncoderLayer(nn.Module):\n",
        "\tdef __init__(self, d_model, num_heads, conv_hidden_dim, p = 0.1):\n",
        "\t\tself.mha = MultiHeadAttention(d_model, num_heads, p)\n",
        "\t\tself.layernorm1 = nn.LayerNorm(normalized_shape = d_model, eps = 1e-6)\n",
        "\t\tself.layernorm2 = nn.LayerNorm(normalized_shape = d_model, eps = 1e-6)\n",
        "\n",
        "\tdef forward(self, x):\n",
        "\t\tattn_output, _ = self.mha(x,x,x)\n",
        "\t\tout1 = self.layernorm1(x + attn_output)\n",
        "\t\tcnn_output = self.cnn(out1)\n",
        "\t\tout2 = self.layernorm2(out1 + cnn_output)\n",
        "\t\treturn out2\n",
        "\n",
        "\n",
        "class Encoder(nn.Module):\n",
        "\tdef __init__(self, num_layers, d_model, num_heads, ff_hidden_dim, input_vocab_size, maximum_position_encoding, p = 0.1):\n",
        "\t\tself.embedding = Embeddings(d_model, input_vocab_size, maximum_position_encoding, p)\n",
        "\t\tself.enc_layers = nn.ModuleList()\n",
        "\t\tfor _ in range(num_layers):\n",
        "\t\t\tself.enc_layers.append(EncoderLayer(d_model, num_heads, ff_hidden_dim, p))\n",
        "\n",
        "\t\tdef forward(self, x):\n",
        "\t\t\tx = self.embedding(x)\n",
        "\t\t\tfor i in range(self.num_layers):\n",
        "\t\t\t\tx = self.enc_layers[i](x)\n",
        "\n",
        "\t\t\treturn x\n",
        "\n",
        "class TransformerClassifier(nn.Module):\n",
        "  def __init__(self, num_layers, d_model, num_heads, conv_hidden_dim, input_vocab_size, num_answers):\n",
        "    super().__init__()\n",
        "\n",
        "  def forward(self, x):\n",
        "    x = Encoder(num_layers, d_model, num_heads, conv_hidden_dim, input_vocab_size, num_answers)(x)\n",
        "    x = nn.Linear(d_model, num_answers)(x)\n",
        "    return torch.max(x, dim = 1)\n",
        "\n",
        "model = TransformerClassifier(num_layers = 1, d_model = 32, num_heads = 2, conv_hidden_dim = 128, input_vocab_size = 50002, num_answers = 2)\n"
      ],
      "metadata": {
        "id": "0792qUoNR9QH"
      },
      "execution_count": null,
      "outputs": []
    },
    {
      "cell_type": "code",
      "source": [
        "import tensorflow as tf\n",
        "import tensorflow_datasets as tfds\n",
        "import tensorflow_hub as hub\n",
        "from tensorflow import keras, matmul, math, cast, float32\n",
        "from tensorflow.keras.layers import Layer, Dense\n",
        "from tensorflow.keras.preprocessing.text import Tokenizer\n",
        "from tensorflow.keras.preprocessing.sequence import pad_sequences\n",
        "\n",
        "import torch\n",
        "import torch.nn.functional as F\n",
        "import torch.nn as nn\n",
        "\n",
        "import numpy as np\n",
        "\n",
        "import matplotlib.pyplot as plt"
      ],
      "metadata": {
        "id": "uvPyP6FUwrB3"
      },
      "execution_count": null,
      "outputs": []
    },
    {
      "cell_type": "markdown",
      "source": [
        "# Input embedding\n",
        "We convert the input tokens (words or subwords) into vectors using embedding layers. That is, each token is embedded into a vector of fixed-size. Say that the input is the following:"
      ],
      "metadata": {
        "id": "C3TqQs6QwQqZ"
      }
    },
    {
      "cell_type": "code",
      "source": [
        "sentences = [\"My name is Ivan.\",\n",
        "             \"I am studying NLP\",\n",
        "             \"Pineapple pizze should be banned.\",\n",
        "             \"When you play the Game of Thrones...\",\n",
        "]\n",
        "tokenizer = Tokenizer(num_words = 100, oov_token = \"<OOV>\")\n",
        "tokenizer.fit_on_texts(sentences)\n"
      ],
      "metadata": {
        "id": "H-9H5Yhzwdjh"
      },
      "execution_count": null,
      "outputs": []
    },
    {
      "cell_type": "markdown",
      "source": [
        "Now we create our tokenizer and fit it on the set of sentences."
      ],
      "metadata": {
        "id": "XX55iAusw_Ll"
      }
    },
    {
      "cell_type": "code",
      "source": [
        "tokenizer = Tokenizer(num_words = 100, oov_token = \"<OOV>\")\n",
        "tokenizer.fit_on_texts(sentences)"
      ],
      "metadata": {
        "id": "ZUHiVBXFxEeT"
      },
      "execution_count": null,
      "outputs": []
    },
    {
      "cell_type": "markdown",
      "source": [
        "We can access the word index, which gives us information about which numbers have been assigned to each word:"
      ],
      "metadata": {
        "id": "XPmgBjGwwSgy"
      }
    },
    {
      "cell_type": "code",
      "source": [
        "word_index = tokenizer.word_index\n",
        "\n",
        "x_test = \"I like basketball.\"\n",
        "tok2 = Tokenizer(num_words = 100, oov_token = \"<OOV>\")\n",
        "tok2.fit_on_texts(x_test)\n",
        "word_index2 = tok2.word_index\n",
        "print(word_index)\n",
        "print(word_index2)"
      ],
      "metadata": {
        "colab": {
          "base_uri": "https://localhost:8080/"
        },
        "id": "xabxfEyqxTIz",
        "outputId": "ef4031b9-e789-43c3-a047-f33a0e79a8ec"
      },
      "execution_count": null,
      "outputs": [
        {
          "output_type": "stream",
          "name": "stdout",
          "text": [
            "{'<OOV>': 1, 'my': 2, 'name': 3, 'is': 4, 'ivan': 5, 'i': 6, 'am': 7, 'studying': 8, 'nlp': 9, 'pineapple': 10, 'pizze': 11, 'should': 12, 'be': 13, 'banned': 14, 'when': 15, 'you': 16, 'play': 17, 'the': 18, 'game': 19, 'of': 20, 'thrones': 21}\n",
            "{'<OOV>': 1, 'l': 2, 'i': 3, 'k': 4, 'e': 5, 'b': 6, 'a': 7, 's': 8, 't': 9}\n"
          ]
        }
      ]
    },
    {
      "cell_type": "markdown",
      "source": [
        "We observe that in word index the tokens are words, wheareas in word_index2 the tokens are letters."
      ],
      "metadata": {
        "id": "RzJ9isWuxk02"
      }
    },
    {
      "cell_type": "markdown",
      "source": [
        "Once we have our dictionary with the relationship between numbers and words, we can embed our input sentences into multidimensional vectors:"
      ],
      "metadata": {
        "id": "uT2h3959x128"
      }
    },
    {
      "cell_type": "code",
      "source": [
        "vocab_size = 50_000 #Still don't know what is\n",
        "input_dim = vocab_size\n",
        "output_dim = 4\n",
        "\n",
        "embed = keras.layers.Embedding(input_dim, output_dim)"
      ],
      "metadata": {
        "id": "EChzO3m3yBkL"
      },
      "execution_count": null,
      "outputs": []
    },
    {
      "cell_type": "code",
      "source": [
        "sequences = tokenizer.texts_to_sequences(sentences)"
      ],
      "metadata": {
        "id": "pXcj7S5oyPBk"
      },
      "execution_count": null,
      "outputs": []
    },
    {
      "cell_type": "markdown",
      "source": [
        "Look what happens now:\n"
      ],
      "metadata": {
        "id": "y5Gljxnny56y"
      }
    },
    {
      "cell_type": "code",
      "source": [
        "embed(sequences)"
      ],
      "metadata": {
        "id": "3dxcAa_Jywy0",
        "colab": {
          "base_uri": "https://localhost:8080/",
          "height": 301
        },
        "outputId": "f00605c1-3373-4ae2-cd77-706649119952"
      },
      "execution_count": null,
      "outputs": [
        {
          "output_type": "error",
          "ename": "ValueError",
          "evalue": "Only input tensors may be passed as positional arguments. The following argument value should be passed as a keyword argument: 2 (of type <class 'int'>)",
          "traceback": [
            "\u001b[0;31m---------------------------------------------------------------------------\u001b[0m",
            "\u001b[0;31mValueError\u001b[0m                                Traceback (most recent call last)",
            "\u001b[0;32m<ipython-input-9-de84151df486>\u001b[0m in \u001b[0;36m<cell line: 1>\u001b[0;34m()\u001b[0m\n\u001b[0;32m----> 1\u001b[0;31m \u001b[0membed\u001b[0m\u001b[0;34m(\u001b[0m\u001b[0msequences\u001b[0m\u001b[0;34m)\u001b[0m\u001b[0;34m\u001b[0m\u001b[0;34m\u001b[0m\u001b[0m\n\u001b[0m",
            "\u001b[0;32m/usr/local/lib/python3.10/dist-packages/keras/src/utils/traceback_utils.py\u001b[0m in \u001b[0;36merror_handler\u001b[0;34m(*args, **kwargs)\u001b[0m\n\u001b[1;32m    120\u001b[0m             \u001b[0;31m# To get the full stack trace, call:\u001b[0m\u001b[0;34m\u001b[0m\u001b[0;34m\u001b[0m\u001b[0m\n\u001b[1;32m    121\u001b[0m             \u001b[0;31m# `keras.config.disable_traceback_filtering()`\u001b[0m\u001b[0;34m\u001b[0m\u001b[0;34m\u001b[0m\u001b[0m\n\u001b[0;32m--> 122\u001b[0;31m             \u001b[0;32mraise\u001b[0m \u001b[0me\u001b[0m\u001b[0;34m.\u001b[0m\u001b[0mwith_traceback\u001b[0m\u001b[0;34m(\u001b[0m\u001b[0mfiltered_tb\u001b[0m\u001b[0;34m)\u001b[0m \u001b[0;32mfrom\u001b[0m \u001b[0;32mNone\u001b[0m\u001b[0;34m\u001b[0m\u001b[0;34m\u001b[0m\u001b[0m\n\u001b[0m\u001b[1;32m    123\u001b[0m         \u001b[0;32mfinally\u001b[0m\u001b[0;34m:\u001b[0m\u001b[0;34m\u001b[0m\u001b[0;34m\u001b[0m\u001b[0m\n\u001b[1;32m    124\u001b[0m             \u001b[0;32mdel\u001b[0m \u001b[0mfiltered_tb\u001b[0m\u001b[0;34m\u001b[0m\u001b[0;34m\u001b[0m\u001b[0m\n",
            "\u001b[0;32m/usr/local/lib/python3.10/dist-packages/keras/src/layers/layer.py\u001b[0m in \u001b[0;36m__call__\u001b[0;34m(self, *args, **kwargs)\u001b[0m\n\u001b[1;32m    806\u001b[0m                     \u001b[0;32mand\u001b[0m \u001b[0marg\u001b[0m \u001b[0;32mis\u001b[0m \u001b[0;32mnot\u001b[0m \u001b[0;32mNone\u001b[0m\u001b[0;34m\u001b[0m\u001b[0;34m\u001b[0m\u001b[0m\n\u001b[1;32m    807\u001b[0m                 ):\n\u001b[0;32m--> 808\u001b[0;31m                     raise ValueError(\n\u001b[0m\u001b[1;32m    809\u001b[0m                         \u001b[0;34m\"Only input tensors may be passed as \"\u001b[0m\u001b[0;34m\u001b[0m\u001b[0;34m\u001b[0m\u001b[0m\n\u001b[1;32m    810\u001b[0m                         \u001b[0;34m\"positional arguments. The following argument value \"\u001b[0m\u001b[0;34m\u001b[0m\u001b[0;34m\u001b[0m\u001b[0m\n",
            "\u001b[0;31mValueError\u001b[0m: Only input tensors may be passed as positional arguments. The following argument value should be passed as a keyword argument: 2 (of type <class 'int'>)"
          ]
        }
      ]
    },
    {
      "cell_type": "markdown",
      "source": [
        "Let's try and convert it into a tensor:"
      ],
      "metadata": {
        "id": "c0fFuY0qy-tj"
      }
    },
    {
      "cell_type": "code",
      "source": [
        "tensor_sequences = np.array(sequences)"
      ],
      "metadata": {
        "id": "Qivec8BPzBJz",
        "colab": {
          "base_uri": "https://localhost:8080/",
          "height": 148
        },
        "outputId": "13f59ef2-9679-4205-82b2-d63125999661"
      },
      "execution_count": null,
      "outputs": [
        {
          "output_type": "error",
          "ename": "ValueError",
          "evalue": "setting an array element with a sequence. The requested array has an inhomogeneous shape after 1 dimensions. The detected shape was (4,) + inhomogeneous part.",
          "traceback": [
            "\u001b[0;31m---------------------------------------------------------------------------\u001b[0m",
            "\u001b[0;31mValueError\u001b[0m                                Traceback (most recent call last)",
            "\u001b[0;32m<ipython-input-10-e2590cc6b904>\u001b[0m in \u001b[0;36m<cell line: 1>\u001b[0;34m()\u001b[0m\n\u001b[0;32m----> 1\u001b[0;31m \u001b[0mtensor_sequences\u001b[0m \u001b[0;34m=\u001b[0m \u001b[0mnp\u001b[0m\u001b[0;34m.\u001b[0m\u001b[0marray\u001b[0m\u001b[0;34m(\u001b[0m\u001b[0msequences\u001b[0m\u001b[0;34m)\u001b[0m\u001b[0;34m\u001b[0m\u001b[0;34m\u001b[0m\u001b[0m\n\u001b[0m",
            "\u001b[0;31mValueError\u001b[0m: setting an array element with a sequence. The requested array has an inhomogeneous shape after 1 dimensions. The detected shape was (4,) + inhomogeneous part."
          ]
        }
      ]
    },
    {
      "cell_type": "markdown",
      "source": [
        "The solution to this is to add 0's such that every sentence has the same number of elements!"
      ],
      "metadata": {
        "id": "mLFxE8lfzFr8"
      }
    },
    {
      "cell_type": "code",
      "source": [
        "padded = pad_sequences(sequences, padding = 'post', truncating = 'post', maxlen = 9)\n",
        "padded"
      ],
      "metadata": {
        "colab": {
          "base_uri": "https://localhost:8080/"
        },
        "id": "8BTY5pzMzMBL",
        "outputId": "a6c364ac-8fdc-4a76-882b-dcecb5702efd"
      },
      "execution_count": null,
      "outputs": [
        {
          "output_type": "execute_result",
          "data": {
            "text/plain": [
              "array([[ 2,  3,  4,  5,  0,  0,  0,  0,  0],\n",
              "       [ 6,  7,  8,  9,  0,  0,  0,  0,  0],\n",
              "       [10, 11, 12, 13, 14,  0,  0,  0,  0],\n",
              "       [15, 16, 17, 18, 19, 20, 21,  0,  0]], dtype=int32)"
            ]
          },
          "metadata": {},
          "execution_count": 11
        }
      ]
    },
    {
      "cell_type": "markdown",
      "source": [
        "And now we can proceed:"
      ],
      "metadata": {
        "id": "mjBO2eYVzUtY"
      }
    },
    {
      "cell_type": "code",
      "source": [
        "out_embedding = embed(padded)\n",
        "\n",
        "for i in range(len(sentences)):\n",
        "  s = sentences[i]\n",
        "  input = padded[i]\n",
        "  output = out_embedding[i]\n",
        "  print(\"--------------------------------------\")\n",
        "  print(f\"Original sentence = {s}\")\n",
        "  print(f\"Input = {input}\")\n",
        "  print(f\"Output = {output}\")"
      ],
      "metadata": {
        "id": "8QsV-jKuzWlT",
        "colab": {
          "base_uri": "https://localhost:8080/"
        },
        "outputId": "92d4d683-5d35-484a-bd81-c5bdccdad84f"
      },
      "execution_count": null,
      "outputs": [
        {
          "output_type": "stream",
          "name": "stdout",
          "text": [
            "--------------------------------------\n",
            "Original sentence = My name is Ivan.\n",
            "Input = [2 3 4 5 0 0 0 0 0]\n",
            "Output = [[-4.8239399e-02  3.0194689e-02 -4.9982250e-02 -3.9103724e-02]\n",
            " [ 1.9032326e-02 -3.5464130e-02 -2.9852366e-02  1.0057855e-02]\n",
            " [-3.2329310e-02  6.6183507e-05  9.3127862e-03 -1.1709310e-02]\n",
            " [-4.8954844e-02  1.8339958e-02 -3.0491030e-02 -9.0018734e-03]\n",
            " [ 6.0306415e-03  3.3882488e-02  1.2479201e-03 -2.3187280e-02]\n",
            " [ 6.0306415e-03  3.3882488e-02  1.2479201e-03 -2.3187280e-02]\n",
            " [ 6.0306415e-03  3.3882488e-02  1.2479201e-03 -2.3187280e-02]\n",
            " [ 6.0306415e-03  3.3882488e-02  1.2479201e-03 -2.3187280e-02]\n",
            " [ 6.0306415e-03  3.3882488e-02  1.2479201e-03 -2.3187280e-02]]\n",
            "--------------------------------------\n",
            "Original sentence = I am studying NLP\n",
            "Input = [6 7 8 9 0 0 0 0 0]\n",
            "Output = [[-0.00891959  0.03797445  0.03347529  0.02485708]\n",
            " [ 0.0118554  -0.01174635 -0.04435085 -0.03997239]\n",
            " [ 0.01019864 -0.02466768 -0.04933186  0.0481972 ]\n",
            " [ 0.02392627 -0.04100142  0.02061708 -0.04983404]\n",
            " [ 0.00603064  0.03388249  0.00124792 -0.02318728]\n",
            " [ 0.00603064  0.03388249  0.00124792 -0.02318728]\n",
            " [ 0.00603064  0.03388249  0.00124792 -0.02318728]\n",
            " [ 0.00603064  0.03388249  0.00124792 -0.02318728]\n",
            " [ 0.00603064  0.03388249  0.00124792 -0.02318728]]\n",
            "--------------------------------------\n",
            "Original sentence = Pineapple pizze should be banned.\n",
            "Input = [10 11 12 13 14  0  0  0  0]\n",
            "Output = [[-0.0295014   0.02736092  0.04749337  0.04128912]\n",
            " [-0.00888444 -0.0172587  -0.0476969  -0.04022547]\n",
            " [-0.01737267  0.01627657 -0.04672856 -0.01031418]\n",
            " [-0.03865548  0.0299278   0.03107924 -0.037563  ]\n",
            " [-0.00021321 -0.00315647 -0.0350235   0.01474215]\n",
            " [ 0.00603064  0.03388249  0.00124792 -0.02318728]\n",
            " [ 0.00603064  0.03388249  0.00124792 -0.02318728]\n",
            " [ 0.00603064  0.03388249  0.00124792 -0.02318728]\n",
            " [ 0.00603064  0.03388249  0.00124792 -0.02318728]]\n",
            "--------------------------------------\n",
            "Original sentence = When you play the Game of Thrones...\n",
            "Input = [15 16 17 18 19 20 21  0  0]\n",
            "Output = [[-0.02558209 -0.01489777 -0.03942671  0.00873257]\n",
            " [-0.04579377 -0.01268989 -0.04504626  0.03889482]\n",
            " [ 0.04158193 -0.03374803 -0.01260521  0.0296017 ]\n",
            " [ 0.03852357  0.03530648 -0.00012033 -0.02442187]\n",
            " [-0.01116109 -0.0258225   0.03053185 -0.02100302]\n",
            " [-0.03148072 -0.02745017 -0.00772954 -0.04266663]\n",
            " [-0.02004893  0.02911131 -0.03113827 -0.02997165]\n",
            " [ 0.00603064  0.03388249  0.00124792 -0.02318728]\n",
            " [ 0.00603064  0.03388249  0.00124792 -0.02318728]]\n"
          ]
        }
      ]
    },
    {
      "cell_type": "markdown",
      "source": [
        "We get an array of size (3, 9, 4) = (Number of sentences, Number of tokens per sentence, Embedding dimensionality)"
      ],
      "metadata": {
        "id": "J9FEoJCIzb0X"
      }
    },
    {
      "cell_type": "markdown",
      "source": [
        "Each dimension of the word embedding tries to capture some linguistic feature about that word, such as whether the word is a verb or an entity or something else, but it can be non-trivial to know what these dimensions represent. The values in each dimensions represent the coordinates of the words in some hyper-space, and during training the values of words that appear in similar contexts, such as *play* and *game* are updated and get closer and closer.. [[4]](https://www.youtube.com/watch?v=dichIcUZfOw)"
      ],
      "metadata": {
        "id": "ncE5EinmTWnM"
      }
    },
    {
      "cell_type": "markdown",
      "source": [
        "LSTM would take each one of the embeddings one by one, something that would be really slow, and hence they know the order of the words because they take the embeddings sequentially. In contrast, Transformers take all the embeddings all at once, something much faster but that looses the information about the embeddings' positions. For example, we would have problems with the sentences:\n",
        "- *Even though she did not win the award, she was satisfied*\n",
        "- *Even though she did win the awards, she was not satisfied*.\n"
      ],
      "metadata": {
        "id": "BKyXfdkPUy09"
      }
    },
    {
      "cell_type": "markdown",
      "source": [
        "# Positional encoding\n",
        "\n",
        "\n",
        "It describes the location or position of an entity in a sequence so that each position is assigned a unique representation. In Transformers, each position/index is mapped to a vector, and the output is a a matrix, where each row represents an encoded object of the sequence summed with its positional information.\n",
        "![Positional_encoding.png](data:image/png;base64,iVBORw0KGgoAAAANSUhEUgAABAAAAAIhCAMAAADn4zgYAAAAY1BMVEX////t8PPZ2dm/v7/Pz8/09vgud7b7/PwEBATl5eXExMS5ubmysrI/grtMi8A1e7hdlsbe6fRxos2Dr9QgICDO3+681OiXvNuqyOE3NzdOTk5mZmZ+fn6np6ednZ2NjY2+ytM99R0uAABXiklEQVR42uydyXbcuA5AxQWBFebD4f+/9FmUKJU7rnQ6ceel3LyL2KYiSqCIgQBLtS0Wi8VisVgsFovFYrFYLBaLxWKxWCwWi8VisVgsFovFYrFYLBaLxWKxWCwWi8VisVgsFovFlwRL2RaLxX+UzrwswGLxHwUdIPK2WCz+i2QFYNsWi8VXIb+RkmX7Ac+eFEDTtlgsvga5RriHa/O6/S1GIL6WAIvFFyF3gh0R9fIDNQCRaCsCWCy+CLkz7AjxjyT3KgCvJOBi8WXIxdVZq5nhtqF9370XAFhLgMXiS5F8FvdNv+/fK4k0fN+G5w/cFovF64Fd4NTqop7Oxg8MQbYmoHY3oGVMZZQPsPY0m5cpWCxeB+wAjoeHZ01HW/X2qOmYamvKBHBHAKVU783d+1tLdnEbR5K1skzAYvEqYFwGoBPX8Zs5yO3rU2uqQiDwxmxOrsqqrXpPI5so2t8OWbisrQKLxcuADtcSQCAON84CMJcDRY86Ae+NQHWclIsKeUm4FQ3bQwAA4ZpcQNqKABaLl6EB1G0aAC3bZj2IAMhOVw/irddiFgIAbW+0UKKWtw2LH2FDJwBgFZBYAcBi8TJgB+g4y3xctxwqxAJUjkYCT+M4FieAOHYEiHh6O9iVmO2tJTeBNwR0fVhgsXgh6m0ARLylRsJRGKTubdmFy50NAPHzHC2ld1UR8nQYEmUQoboWAIvFC1EEYkYAFL0KuOWsII7HUc+PJUPNhwGIYBFijVkvyM0BgPoyAIvFC1HkKgMCuTrwkdRjLaPtMgBYQuXIAhYQFwDQ+qDvndgFdFUBF4sXotDM25tyI5DI25bjdOZF4KgNYmosxEd1wBgA1L2l7QJDOAiI67ZYLF4ENIWwjIhbciE49b3L8cGfFAJczUpXEe+VRpkPmwBELQm3i0oUhQFE12vDFosXAGuLCCcgdo+ekwKAHyG88TAFxy/CzADU8vj8oERPyWFv9poSImYc4UPNGEoCvBKBi8WfT2EBEAAQEdZI6ADSZ74vWLjnLTGIECjpiPdzVSXqWJSFBFi1tR4dsdO+kEjWVVYMsFi8AA0ABERZRGu1beuqNW8HiNWDO+YWvYXXOsP90nmvEFrwiA0AhMBzUW14lgN1vTdosfjz6czqEaW2aCPwL81wu0k1Ou6mICfcrgNYes9vP6x0JVKlN1oKL6fS51R8vTdosfjjQbOUc0bc/xkNaXtPxg/Pw/NnKtWslFot17Ld2CoFLhb/XZb6LxaLxWKxWCwWi8VisVgsFovFYrFYLBaLxWKxWPwiuLZgLxb/WXLz9TGsxeKfgsks46d3ittvptLv/+5GNLMVdyz+ADCnnEq1f653FtGifLI3rr/fGzcA+d0X7dEi1t7vxf+bXFzVg4U1av6HnlNZqX9yNK76dz3m/LmBAjYAqdtvBUOV16vgF/9nUncWECGBN7ilH3HRdepe1eg6NQdH+6+SFJ6aFLRczFKJ1nupHr3gJykjAJV34v0ayfC64yd95dDeND0f4hUcLP59UiP2UA13ZhLh8gOxKxG3fPwq7NNmYGHiSNsvkgOkPzUOys7KJCKszJ+1+kgK7PYoHv6iDFOzzXtPH/8fF/X6NCdB3FaC4A8np9Rf/AUephSGp/5aV/qRQDgAgO00AKTl4ZuSQMq/ZwAwdRYYiAArx2cl0YxBpwFAn+L9PEWlTy1nah9L48Ceni9JgFZd4o8m1/BgeulXeecuENuW0lThH1rQd7lmZxe6R6AKgNRffdeB+TMDkK2SEAGQRnjtI2uJn2QAbp1vt3j4szZMIGbHxI4fRwBAbN8Z4teeWu8pvRRL6QvFNLmqCDPxa2dxulBg9sBr4tbvpt4G5hw9T52/VT45e09P9b/+WLRU+dnUz+Gt1V3xU8Y8bVbLv/6ClaRyG4BbvBL2k/bkwQCIR35iAJ4EGnMov4y6pBKuzP6VXnnbCbhbri/+lCqRWxPPRzzgGkNJ0dK3pcISp3pjvjJbXSTqpWWz/frz8a/Unj//UvCOfulZ8GvMNf9FqVM87TXXUmstlyiY0tPcIs/veHkUL3eu+PEJ+H1/RyCehnlioNbygyqkBwPArcz+jh5x1mLvITZ7+WSgObOIwFf6/vukwC1/NBNSKeV18gKm7EXHJpjUlURt6EP1MMuPEZuFkggN+5ATPkQQraWcUsazfYKphJeS9yOD5FRxamZ+XIb0znf1AYs+c4yJQe8jd6+Xvj9evlhwqLrGOH4IVaZQN9mstnicnCnNQ0FnI553PHvqrVp6mqbHoDMZkhoDkKYZB1cnn3eJLto75pTzlmqPmrfcSLTiGOLLHvLpYxBfdNsQhoAQMX+hr7/MTaDmj6X1UH8dOa2kxODZugrIeEK5sQC7h/olY3JmAQHZ/0PTgrcBYA9XbWnDrg/BQFEC8f1Ys9FqOp9/V/LyqNZviKfp0uVpZBzfxgZFqZ52hCns6jSiEwXr/K6F90JNrPTGKrDD0xvH1NGsMxNfVbw+GE0lYvVWMj4xVG/U4chDQDSduizjOvWqAoh6uHrf/YlQNJcz94fXEOdGFJZHYVD9dTzLA4UBvFiqxOWrvD2zEkh5VgB6I/2pN/4RpqBdBUhbt+FTAcj9+HFIiZ3cmZVHrKCgc+XTQVidSN7aMe527AwgHLH/OFqTwjkuIQDXXLYQIPer/GAuoE8MgAOVD/L3+SweAMTVqzsDMXlrsVuINJyyxynU9OtKJAAi8Ib0qfZTjPsL3rvAfVNdmIRYiDTSkxXAG7GPQq0E8wY7g6gzeJ7XIXYlob5LISACA7ctX0OJ5iD7dSoT6CsagBwAYcf6Jm+/zk/kfj4dbPCsYJ5ce/jz61v8cVmDJiBD/e1SXa7JijMBqB3KK2GWkoWm3cFJ5Ktkxz1E9jg16+3HiwJIs1SCCYBqwi2f6ms2HF2fmgrgBXOI2mWP+MlEV2B7Ixe7wu+8t81eZ/kAS1OQ6LUYbqkafivUNOOsHq07AcD51OwSD+MIWs2CBKDNSANINUJVQbx85B6ECMD3UEBD4BAndwLqCQtRx1kg0MojQkl+2CDtQ1vmEF9FCfHO8KJfHJdYWO3bHEr+R8LMszDjzP3Y3+R+8jenfRoYwPokAlBhL985U/646k4ACHOcmYviDHyEr9YZuO0Gq5B0xHE0bYVmjH46/cLU8oh8qVxxEMgw0WjFRVqzEeYGbuYqcqkTBsAYyQbQcRoAsmfFOnEmDo2CdzJG2tHrbQCSMglfC048hcJLqMN9BFCznBGxqExHvYunNiv1u7tO7iQC4KOt0rBsiMlcRNqHpRV2AN27ohj27+hWGg4hNJ3SRMUm475sKHiraLF7FiPgMiV0eEP2bv401/FDJCXnR3edc+7Vau81f5M9s3P9eB3JiDM1i7WnkX05H3E9T3uf+zELdn0j6nFa7sdp6VOdJgj0JwYA1PP2lKL0h30ABB2AazW8HA7XOyHHznZ6K+9pQ8Ot0JXNwQZUZ2xnfGXSjESuZ55CnBtmB/KUGgk1BwicC4COpzLmywDUj+MuhgFxzw/jTZFTiFBTkHbcNgHr4UGfCVXG2tTxbLOQywDIFA8DyC13IYo4I4SkQC3NjU8CkT8yAKoAmrEJ1YAhK9ZT8QuJltN0ebqmLwZAy3iWTsYQP+Q5CYTkNTMAu+Qk1O4MZo1QdQ4Pu1O2vfSmzGM4MdTQ8JB9FpkswtnZXQueFSE8ZwXdHVm0TuzMM/dTo50XK5+pds8/O5J0JH2eUvhHdpn91h0TcTjrW7S41StkePXsQi6i7Zydmi7vxHdybIo2PdikMkDDrOBuIRQ1NwC1eWiEGwpytGCnp2MbACAcMyU/1SjMhdrRazqLk9o6vjMA/iAUAZVdNrrv8Q5rikzx0EHdGknUVAG43EIOqsCHBqBKhBCbMbdcadxVdjhuoRNQm9exd3GY5/d3M8kt4IX3BY0hoIiCc/iFvNdcWrtGkt5gpUNIY2qlp2OQpNthVZlIW0+ptTICqZlGcrmWS3fuR3sL6qMgQ+Ni1pp9amGD2Z5FAN/N1RgD1b/LViT/jfUSdODybiLeF89xSmNRLZiE64yRB6ZMcYs2O7qU6E6Z1qGq3o/n1kG0j8d6OjbjOcNT8NO5XgG4W/5Lxt2901CeBqT1MFskWv9i4/4q1KMqo3We64dbMbODeldQG63ccIY5l/F5EgFEY6HaRW1YCU8jUhkuK2a2oQhzfW4A1B46VGGRl0wB7iRnEhGvOHy9Cvc0IrEz6MvWgaNbqgyeh/SiNZ9P3IdNqCHD0aMFuY2x57L/WZRub1yaAly5n5KtunAbpzlF/mkVsZrxvZt/ngRU8P5wCFNN+H4OQ9surBnidPo52RmFXgUfxN9hADR/bABybXCWwnEf6xLU8j07cSy2HR8NwNFeADzd4R3vJ2SXcBIqh5Id0V4TLafbP1cFuevTDwNVgXE3N5hUmpKwjcMy7jaHiLT03gA8CjV02O6UReosMg33ZQAQ47jjegblnkbl4FqMYxeg8lGg0rsrHDWTcoQJiY8wy3Tu8q/C/CDnDF8uA3AM5XSQTsDxortO0XoQyLDOSUn2Z4Gp6yl/CmeuY6a38SD7He9UOOKlINrdPKbiTJFPQzz2GB25H5y5n2FnT5KTwHExZ2r487fPvSazfHcsQ00+ICtx1Gwljac1zu0P55bbABzmsNSCWzZrvbR2lggqzyC0jHjn36UJF3wwYHeKr/FQ3RtjtqEL9UjVJAXx++ChuVhyg1vjirJQH95eCUZ/h40/dbbhrlUi87qdxqP9iH71imZH2gjb0etwKXRuugm5ZtAt1NTUKVQKATXcLYKLaEzXXuQSrzLzFfqfNh8rA0WvVhCbfJSvLMRl+CWgGCcO86fjHnPQ3BFXAKg/ynbf4jXEWPK5Z7AyyKtmAXY73YiFAsc4RkpWg4X4jAKvBXoT6ohB1xQIGJEPOohbshIqRJGPCMBzChq5H2g4V07q+Z2j9nkxaj+/6R9A1ZW95msJIBBWiuUPdpWLujNrHbthRGScq3XmmG8DkEtXbrVl7O76Ro+woxLHZRbFh7j/KnV67rlDXbxaxrNwPR5NqjXnbLUT25jSPVuPyGk8mDsah9jbPXcZwXpCxOIA1NOsZ2k9ryLUj0ektQQLKO29Dne3n1tqaR2/Tb2w19KtO2spvbWCITCrcVlBeGTcnWC60FRKyi4Ap1D1FkoBOFooAfeU2yjT5SNdf4jXCeZaBUNmMFSGOws3jKnD76jimBoBjKoH+lGcaECtdCUghbmooCHwB6smI4BxD45jc7TX7PLKFmDLpRFrRWPg2pTfIG3DvDWq79ZBOYjkHFeHI3vjQK0rMzEfgZDduR+MM97EKqKtvTP83M+LcaSfrpIDaY8Rurldu9VASIS84rdrfB4Gpx6BLWkLh2uSGtNp3PKYxuolYXIC7iVtyd0eQ11jAPm3LUDjRz9WwwmE3cNp+vEcQnH8HTgUR31YcmxEoHXXMRy2g50B3Ky5CpB6BMNcDvSjJD7oI5+QNwwWEADg0o/oDavAgKh+kHsFECUnAGCnqDiej+YpCQnvfVij/7F3LVxt40wUsUxmA1jP6tEWuv//X36dkZWYQM52+YCM47n09LQcFF/LnqvRPMTO2dpKqZ5cxtObgvl1I0zO2cayS+U9FYM93F6Zju4Qx7L7QMgpxRgDJxfqG62AEVkleoC0OV7OsiXSFLDKc3bRT9MulRwMdNkYkzO0iafS0Ej+uzGn1SoAtXJNtgSK2bBmkyDP57GWRULKG3I8fV8okCskgeNUiWs1YutNEvw51MtqTmI/8aXn5/liPOy9jQz0/AyYFj09vYAch9gxTtobRvw7ZuumGI5jyzwWiJOdBSBzgiIWwFJtLwGH0neK2fGTN7lO/RX8VFS3vASCKZZqt6OllzAMHaKXty+rWC2ZsvWJi396nbcP5LiQ4Fkbe5acbDhaR/I5J0DY5xvq561veEOmSojAsblmoE/um8JXx6wPhUA2TN9w+akFu0RzwR7l/zL2m9odb4qRJu+9jbFmmPu7/S4izLdnEwR/PJYDQ/HW9/8hQG4Z2bYjvA7zpr5LtGV4NAnJk+ysCzv4KUOxfe58YklcPugDhwg3kCxdA9FUN7m0yloARo6k+X5H6/vkm8Fj6dw8cyyamV6UmPqSPs3FqNU5GmXrsONF7IenLr2K/QxHc1zsfTDJs6M2jqOIqWFI0acdwVZf4ZUApICV/BSgDUtdjK315pgOgmrTxK10xjr2wU1J1vaXmhcPoDskk/p0AVjk3YYlRN9aqtkM06Wa2al3r7ECOpsy8Srek41TbpwX3snGEvoPVR99bbW2MIq3aPgAhhpt4MIIippk0gLvXMNAGRx+1m9sVmykbJCdvHNTL/w1sYYXnmbsaYtSSo4xWj/6ecZNpWyOrXmhzFWF40cKMYvz7UGqBReMW7T5pGvfllc1qjyb9LMJ58SvS73NkV7FYm6wRCoKAHJOd2MnXLroD+TDFBc/4kCm1TUfIhii84Y9tkhx+sWmuR2ahlgFWSCBngepaDNzP4FtXK3SgT2iFM0ctfFmPkaFZ3OAc7A07P2k7SJJDm3yNpmaIq9sziZjiMCpAMANBNP9uMNYLLQ04g14DgIj5kTiP6c0p2ZyqXHiVa3vBxsW61wkDcyfrczTSVkjAphsAHD8RGu1xNgyDFPILRXs0mZCS63AaK6Jw2QQAbIxgIdnls1JZCgjr6wlwwgVpUADTfkNfLPI0+RSTG6hVmLw1qeGUelP3EoL8OqmzgLBYL+N2j88B3zJuMCpAITXZeLe9LuD4frWhsx+vMAImcK9YOhCLc86cVTh5VRiPa5piCttP0e+U3bqTOQDXUpYlGX4Hql3s0sduJYGQrKcEjYmGKRVyqcWcIyqx201t1KRcvfYTzjEfnpEiy6G72VuiMGLvqZkeGGedim/ta0oo6ClC0BZtJxzOCNYdqRrpCCGzaOfpcWJHenY42AcZ552kVv13GeXDkIp/9p6BWjgpa2caY+H/6ujC/+0lwNxXBU/Z07+SDqnN9yzfFIJim9qDp5OHVQWl9dTDLCkBbLKSP8Qgf3EvpRl+hdH60oIOWM/gKWHODynYPkUhRT9ZCMH0bxPtKXiVklyKEMowNtBDyNbNXFgF3lD6Y+xH77Yb1i+2HuakcKyIgPJm2umptoS7+veQLPW5mNe/GQsLe5czeYcs4IhALbf3KxUhbvxdjb3FFBcr9t33TBvHl2Q11qy93mokz20fGNJE5mld5P1lgvNa7KWdrt2LjzFxOdU07LoPK/hSAdScECM/GY/tRexHxOa9d2NoE/oG1ZbSBKoG20aF3uHL51HTevoMYsBDSC2M7E5bpAvQwBOxvrcBcBNpAGH3lmMdLeUOAQcV7V1ci7C3G+nb5RMmLSzYQ0d3xcGVz+5w/GzOXGLFFlBnz8s7FT7MoqzQrUUL4HsbfLOZsPfSxw1ZW1or2M/vQnflJZLWsR+QqJhEw17RzSNU1cRxhrOCaNRA2bzuWrVcm4sskvhfPVEx/kWYNSUx5JfFBoR6YI9sGFXHPq9RhxjI3G38jMhvwbF2p1d7MQBCgVGKJlaYQSVcs44GkrpG6Ug7epr9Q2Ph9KlUlOKKd/giT8PIeNoNIZl7Af6MLpYMu86zcSlEqBXtNg61uhzBet556Y6YueUJWp9rOOxI6qYe2Mbhb+JcOS0ds24VEzbYJwvt+LQ7/UBQxoPijobVJv/HZQ3a3AaZ75BXLbpz9bhzdKNwgB5OXIe9R8nHd81jAEcm3fWet6mx3Ds+XHlTPfz5GJrtKCXlBZjuxVD7A0kpcXk2QtAToU5R+XxsZXSGnDwss7kk6cIh7qVQgCl2pjKbwRKbF/RObefCASDfxhUkeftAleIxWidjcs12uZzPgPBcZcczmMnZ0d6rE1Twq5KJVZrRwsc1T/TUEvFDdUvTsmE5qOGAaQASrLOW8rpT+6azrmWABN3Ar1dQ/uHWlorZtmXFuGMXqTo3TgWCHhsXowtx0IUCNBmnyI3Pj/WOscl4SUVfBnhuJ4DldcONC1Wz8mltv4ju2Uh+J1QTT0tICnubHch152WAMsjkPBMAn2Z5A2tH5RE+WA4lcFr+p0q6wdCSDGutTtXMMK0W0m/E1Xrf/ippFzcgrqorAG40pIc2QiTW8mvRM3TTuM/CsWHV1ato98Rq3eaAVYoPhYQ6YCFFQC881fza44UCiHAtJKzT4NX+1coPhx1JQJQtDJHofh4tJXUVhdNyysUHw6sUusAtOFLofh0YLV1FVkAhULx8UAT1P4Viu1CXWuFQqFQKBQKhUKhUCgUCoVCoVAoFAqFQqFQKBRbBewViv8GrbW7IuyfHx8fpHw9y6Ahj8yjoIf0+PjXjeJqsH80IAXm4RbEQBSZu79ADu5UAK4I+0c5Zyjiw/5GDESREWVzosisCPiFUAG4LjKibE4UmRXh7uHrAGsUAJRkc6LIyLI5IWT29/d3X/XHfATh+7/2t1/zdfto1igAshZdUWSE2JwoMreP919l/4/7DxGAu5svglEBuDIyQmxOFJnbB9rpruhVUAFYlc2JIiPE5jpuZZBRAVAB2AwZUQIghMxeBUAFYCtkhNicKDLqAZwDqgBcGxkhNieKjAqAegCbISPE5kSRUQFQAdgMGSE2J4qMxgBUADZDRojNiSKjHoDGADZDRojNiSKjAqAewGbICLE5rQNQAVjBRF8hGVECIISMxgBUADZDRojNiSKjHoDGADZDRojNiSKjAqAewGbICLE5UWRUAFQANkNGiM2JIqMxABWAzZARYnOiyKgHoDGAzZARYnOiyKgAqAewGTJCbE7rAFQAVjDRV0hGlAAIIaMxABWAzZARYnOiyKgHoDGAzZARYnOiyKgAqAewGTJCbE4UGRUAFYDNkBFic6LIaAxABWAzZITYnCgy6gFoDGAzZITYnCgyKgDqAWyGjBCb0zoAFYAVTPQVkhElAELIaAxABWAzZITYnCgy6gFcKgaADz8OePp1hxed6P3PA5ef/zwYcU/9YjaH/xwn5un5FlUANiMAn+0B4K+/F/j2tL/kRN9+W5L5eY/CnvrFbA5+Lifm+zOoAKgAfJwAfPvB+E7m94QXFoDvRy4/boU99UsKwJgYmplvz3hlAqAxgEsKwBMgIsL+/un3u3V/WQH4fstczO2v76RGsp76RQXgGQmwf/jx9//YO5ttt1UYCgOGJYE91IQfm/d/y7swoUmb9q62J7WFjc7EyeTsBPRlS2CDXl0MAHdwAGC1lsCuB7A98wxkLDQ4FwC2zfkV0Vteo34uANoL5RGXAQAhtbb9AEBuwRP5sEiGDgDaqwUxSh4AENIj6QGAdwCYjJjHPgCxIqVuAGAj1qBoGQNAEwbLBAAiIM4DAO8AECtivJgD+JsewIbYDQBMQqS0LIkQN+ALAIcYuDgAE5DcAMAbAOqQXQwA6uIAmAi92/87IWmuPQABGTEy6QEITUhqAOAdADIibgMAXQEgIWYoF1AGj6sDAOcfBgWsVvKl1wLHA8BGxGDeBFhtbg4As9HDGhmllRHPAOfMAABHAMjw7cfMEUbJDABhKbHmSLUCABU9Ud1uYnO5TPYoANC2lNiSR6S5fP7vBJjk1U0BkB6jFLDaNJgCEQUHooX03nYKgIv3ABRhgHppPXrLDADPqIWKDRhyItpKwqFP2WOUx+8EpGyEMLkICLsAMHIjuisAXiKqvaykmCORvgIAru0AQBPGVzPArAeAVP/IJwX7W9GCWchboclrABVoPgwATUuYzd4JIA1gAy1CuBQI7wuANkoh21pMZiNkxmQGAJgDQMxVauvgKGYOIM5TCackVEaRq6iaxLYLhxUTHFQCrFWLtvWjVAFiLQTdPN0YAGnaozVnFO3Zbn2piUAtOTvrvb3RPoA+AVCGUjMDwPfJDW0eJVwh1t6To2CObQK2iHXTm8ZghLFWhdsCYBWv0YYEAmkBi0ciStStA7h4D+AVAAnRsQaAUOT3NzJmCOjaz805APhBgIwDADUWjN8I6Yiyc4mwWwAMB8BiH0ANhaG5bxNInw2AKsAPAPwIgCQePk3GffHWpAEA/gCQ7EsAoQcAOgDAiunhAFbryZZL3W8JcHEAOMT4BABxawK+lwD1C95LACYAqALgeACAW1dXr/S6PuapXddFsikBFHnofBXg4j0ATRjaJw09AEBWc7lB68FRkGc1AecqwMtzHICMjd4mI3rTbsfx6lwAzBhNJeR0AQBc3AEoj14+9wRZ3j0AW32/KbmXMQshYMEIpwAAioA63eEkAAR80NukVwDQuQBofl96Uq0EUKMEYAoAE5D08457w8kBrG8AMAmzKTOMlJj2jJQRN3EEAN63SU5U3jFFwOkOIJ3pAGh9A9OyD1+QdcCKvrEPgCcAREZMpk2nldPNQD97room2rQLBQwyYHI6YVBHfNFGaQVvD1KITueSbyf1AOy3L8jqJk9qrcxBAGgi5Nv897NePC5QBixrnTteBmTcA4BPAEB5pCzB2IwY7AcBAPAPzgWA1RMRxSJUB6q3nJzVeFe7AP8QIOMtbwb6WchMJbIpH8+Xy+RDrwDg6wDMOpmvAwA2RIo5BURcPvlMQLXZzwNAgN5Sey6/XXJeFZySc+8CwC1yAKCGcTltzpRLUGvKk5zncTvwp6eCDBRn+VUACLP55zPdP+gAZvJZwT8+GQjEyTkHd38gyOXFcAYAIsXJfBEAAnSOIcSSrR8FACIWBIyjwfoRwyTnWIn5mx7A7MN2DAAqAr58LoCRVoIQHwdARcAAQC9imOQcKzF8zwWQAfegMEuGZwPOWMMnZQYA+hDDJOdYiTkcAGZZfy9q7d5cwBknA/2vvIQtfFYDAF2IYZJz3e8D+NJUsIR/HhTVCQDYfleq39QAQAdiWAGAiRjbBQB8tpwBEOfhAHoQwyTnWIk53AGA0r8Xzr94bDjlcFCnfx1bU0dhkaME6EIMk5xjJeb4JiD8YRPQZ8vxdOAZa8TZjFWATsQwyTlWYrivAtTH5bJdBQiLHMuA3YhhknOsxFjWAPDZFnlMHcC+QDk2AvUjhknOsRLD2QHU2p8rAGr6DwB0JIZJzrESwxcAZirpzxYAdpJCDAB0JYZJzt17H8BfBMseAAgxANCZGFYAYCKGbw+gBGMHIAYAuhPDJOdYiRkOYADgNmKY5BwrMQMAAwC3EcMk51iJGQD4VcAAwNXEMMk5VmJGD2A4gNuIYZJzrMQMBzAAcBsxTHKOlZgBgAGA24hhknNjH0AXABg9gMuJ+Y+ds1luFQeisCWkUgtp2Rv9AO//lhMjsL3Incmdis0BdccLkkoqX6Tqrw6NHCgBgMDIDEASQDcwID0HBSMJQATQDQxIz0HBiABEAN3AgPQcFIwIQGYA3cCA9BwUjMwAJAF0AwPSc1AwkgBEAN3AgPQcFIwI4JcEMBqUGuNgYAoKJkSDU0EEgC2Av5wBDOM4DhCvIQYQkvsrBpiFGWPE4FhfIAKQGYDcAnQDA5K6oWAkAYgAuoEB6TkomPMJIIbhIx8hiAAuBgPSc1AwOppPVfwdAQz6Q2VEABeDAek5KBgdx8/UMES5BfiqznoOCgak56BgzncLIAI4U89BwYD0HBSMPAUQAXQDA9JzUDCSAOS9AN3AgPQcFIwIQBJANzAgPSf/EUgEcIKFviAMlABAYGQGIALoBgak56BgJAHIDKAbGJCeg4IRAUgC6AYGpOegYEQAIoBuYEB6DgpGZgAigG5gQHoOCkYSgMwAuoEB6TkoGBGAJIBuYEB6Ts4BiABOsNAXhIESAAiMzABEAN3AgPQcFIwkAJkBdAMD0nNQMCIASQDdwID0HBSMCEAE0A0MSM9BwcgMQATQDQxIz0HBSAKQGUA3MCA9BwUjApAE0A0MSM/JOQARwAkW+oIwUAIAgZEZgAigGxiQnoOCkQQgM4BuYEB6DgpGBCAJoBsYkJ6DghEBiAC6gQHpOSgYmQGIALqBAek5KBhJADID6AYGpOegYEQAhyUApR/llTt2od0ri8Xb9eN6zr+sjJVzACKA3xPAxI9KZVZHLrTz6cmSq3Zou36YAGx9WZgS7eUSgMwAjhKAm+m1sjlyoTXTS6XJge36cQIo9FJc/dUEIAngj7wfEECe77XUzERZHSsAXhpLYSIewXb9UAGUtkslEVG1IoAzCkAbhZgAqru5r7J+ZqLoDhVA8jf3RWDVkImKw9r1QwUw3dy9rK5EbEQAJxSAzzyBCqCVq0TVHi2ArUYm9li7frAAtvKFaL6YALqYAbiJaIYWwG0gygpEADYRG6xdxxDAumUXE0APCcDGRDQjzgCeAjBM2YMI4JaJAtauYwjgNhEVEcCpBOD0MBcm+AQQgBKAkgTwhwSwEFU5B3AqAfjMRAQvAAs0A3ADU5IZwHczgEw0XSwBXH0G4DPfC1UAdi2lFybeUrdfdLtQYV6C/5wAdGPxMREVtzFOz5uURfUqgG2XTCHitjnOLP71u5ZFnVQAP0sAagzTNHjXPvFfF9bEaVBrxg5TNA5VAE7fawGdAaR6r1ISERW7x8xpvTClnQ9yHxIAlwaT+fmwy3DZ/y5VWHcqgPxcGFrcvhrmtT9S8hcWgJ8TExGndg5qTlkPmYk4RecrMzGXEVQArSJoAngWF71KR8/cBKAylTAWyv6Ak4DB3Vl8yJTt2gbeVOpWAM/iRe2r0Y8AnCpEtMZoKvc/sxJXpvVznjK1q6RFAH8vAE6tSg3rz5vMRE0A4zoUVIXmTwkgtcplXn9e1US0CWBKTP0KgPeFWVocm15DkrNKuRMLwAf3kyOrk9Z6ZuJpFQAx10EPmYgpR62nRDQ7EcBfC6D4VspufVhKSU0ACy2NvLgPzQDMzrKl3KWUPQHEUjJ3K4B536VtJ2LJmTcB2FBzmfV5BfDfCUBlSvr1GMRCxJNrz663hBqIir2YAD57DmAvt88ACoV2F57Vpx8D7uXuv922y55nANN3X2azv1kwJc58YQH4zLV9z8BUWgIotqlhXxzNlK8mgNvHBdBqE0Am01Y2+YME0PQjQ8BvBLAPAV3kFJSKiZK/7DkA67Vat9LXlgDqviQu7/eFPr1BAM6MFlkAelDvFAA3ASQMATgRwDcCUJmjW7fytAngR+cArDKxvRuyJQAeHgLw7xOAXbiMFlcAE+WgJAG8TwDOWve4ss8rHAFoTmrd/ivfAtzcWFOb+e8zAN7Y3y0AIq6jQ50BTERcgn2bAEYkARyQAOxU6xY1Q62La0S1Lh5JAO7yjwHtzESp1HkI/OEE0B6Qjwo1AdwrR/UWAZTH00DbaQJQmSg/Dkon+7CuFgF8UgAjE8/rwyGzCeCDCaApwDhcAawp4A0CWKi2NzIX12kCOIEAfGow43lvAf57BlAf5x+H30kAejQ/+hgLbcVltIcI4F9R6wMvB/0/BBBTmv8sAPMPe2e35KgKReFApPZGueQGEH3/tzxlfuycqj41PadNXMpi0hnnar4C15ftlo63O802xfCJzPmcClwFMKY0PlyZUrmDDCll/0kBzCkP/ykAmXWZNl+O2wS0g/xRgbFfv7WmbNADyPr3I5Zujx7Aj1Hz7C6bjFUAbtQ0z1mL+VjmwCoAiLsA6/hOAIs4Nc9zjicWgJTHLj8J8Zu7AB8SgOZ+jwrgx6hp3EwAUxruczqmGFPxe2bO5rJWAGOmANbhnrNhS4ox15zNafcBTKpxvl6nEqNq6s2vewB9CKH+5Ke81Nhml0uA7o7y/duKp7l2YTMBGPv80PV9b92umRPr5XnorVAA6/DPlXG277x4LwetAPwPdgLeMrhoIKnGfoO7APKjHzc/8xWM/K4J2JXS/x8BrDjfvdUHXpq88NFgR4AByRwUzB8qgLUWjal0rsaYusuU8iOE47MhY0oa33UXIAeD+VyAesebvPDZgMeAAckcFIwd5CdVad8ZWSrC3i9/rWXh80jWo60FkINDfTJQXfCq4cNBDwMDkjkoGODvBHTzki+BfTRYvRX/fDrwcWBAMgcFA/ydgHIdDPKzAbvq+XjwQ8GAZA4KBrgCuIhAPxtQ5EIBHAoGJHNQMMgCOPfTgdEn+oQwIJk72D4AsFOBAjhU5qBgoAQAAgPcA6AATpA5KBiQzEHBsAL4T14K4GwwIJmDgqEAWAE0AwOSOSgYCoACaAYGJHNQMOwBUADNwIBkDgqGFQB7AM3AgGQOCoYCYAXQDAxI5rgPgAI4wESfEAZKACAw7AFQAM3AgGQOCoYVAHsAzcCAZA4KhgJgBdAMDEjmoGAoAAqgGRiQzEHBsAdAATQDA5I5KBhWAOwBNAMDkjkoGAqAFUAzMCCZ4z4ACuAAE31CGCgBgMCwB0ABNAMDkjkoGFYA7AE0AwOSOSgYCoAVQDMwIJmDgqEANhJAZ63tIF5d6EFI7jAwE2OvAYPj9rpiCIA9gG0EUIcrzAhALFAwIVxxRsAQACsA9gCagQGpuqFgKAD2AJqBAckcFMzxBNCbDw1PAZwMBiRzUDB+kA+NrQRQw6dGpQDOBQOSOSgYW4dPjbplBeDf/2ZZAZwMBiRzUDA2WP+hP2GzHoBcLm99Yw/gnDAgmYOC4W1ANgGbgQHJHBTM8ZqAFMCRMgcFA5I5/jbgIQTAfQCng4ESAAgMLwFYATQDA5I5KBhWABRAMzAgmYOCoQAogGZgQDIHBUMBsAfQDAxI5qBg2ANgBdAMDEjmoGBYAVAAzcCAZA4KhgKgAJqBAckc9wEcQgDsAZwOBkoAIDDsAbACaAYGJHNQMKwAKIBmYEAyBwVDAVAAzcCAZA4KhgJgD6AZGJDMQcGwB8AKoBkYkMxBwbACoACagQHJHBQMBUABNAMDkjnuAziEANgDOB0MlABAYNgDYAXQDAxI5qBgWAFQAM3AgGQOCoYCoACagQHJHBQMBcAeQDMwIJmDgmEPgBVAMzAgmYOCYQVAATQDA5I5KBgKgAJoBgYkc9wHcAgByLsFYLz39vbyxsm+Ey3efsEI3qrvJgD51yqd0EbsAexVAUiIMabllVIuwe060T7H9IDJZfZwq75b5tz4skpjL6cTACuA3QQw6esods+JtvGVJQUBW/X9BFD0ZcTRUAAUwHYCSONtlKSqxe0rgPhgyVE1dmCrvqsA8ssqzUIBNCIA+YAARlkOxNk5qgbZVQDJ32CcGbJqEaxV31UAVW5HxhbVaE8mgAZ6AKarc+29AFYA4xNKRtXR7SyAx7H0yz+wVn1fAayrnFWnkwng/BWALVFVY5o8sAAuV9VsMARwMUljh7XqGAK4zKojBXAoAciQVGOMqpo9sAC6qNmDCOCSVQesVQcRQFAt3AdwKAHYpLH03k5JdXSQPQC4CsCxAvheADKdrwI4eQ/gdm1tHhe2sYetANgDuBxAAOwBHE4ANmnya8RmOAE4ERHn/PS4CyB+mKp19/+/r1PvPycAu7CsdwGeAOscdJNpUwBxekyMLY8bpM6GabAvwZF5dhQAogC6uN7RqqqjgAkgz8u432HO7nKRkGLUOJtb83I5zPZz+wDuMDmqxn4FKA8AU5JtUwBa5mV87QMw0zIxqcrXqZKSb0YAppvGUsZq5d2ngpNfC+Aa14/9SXXetAfgZPOdgENM87Wm5TQzRUsYima/005An3Ucwh3AGTvG2KoAvkYc/fJxr6le5xivZxDAX/cAbInrWfLeU0HC7OWXAvCh2vuRFNWw6SVAP3byWwHE20i5VHP7lP2HvbPbcRQHonBwsKoMXPrGP+D3f8uVHdq9ymi0HZaGA67qljqKNKNPJOdLUTbETpTPwZ15DOXcxQSejxFAZXEhFbcvZW9i5/NRm3Jb0KwAvg6Mj6POr7XL5wF6WfduktZ0YQF80AHUOYh1vvaJv/hW0IldMrTPTkAqZ7m7CmBmWxWwUQBBlTJGrxMLVzyQ32GJU5EgBzpoBjCsMOvVgKEsBb44Ju99ux1A+joweu0qS/KVLb3RM4Uwq3YEkJhDTw9SgTn+ugCYXVK0gwBIeeZEOwuAswL0LsuApUxI5Y+z6it/vfXdoasAtZZQnoic1hlAswKY3/6XMNdXRqfcGlhvnWljHwAFdqruXDlAAFkB5v8LYPAfbwSiHwgg40VFewng8fqMmfKWAM/9K5nOnCOArqOXjJ4igLc3hn69O6POQ5vJmMXyZTuAD2cAOoX1c1QdJYDaBWwXgEmWOey5FbgKYO0C9hFAKT06Oz0e3r4E4M4QQC0VOGoRwJ/VJevUOrR50HJdAXx6CqA1levX+sBbBTDHH5ZnrgowtFkANHguS2ufC2D6GZ6N424CMMnaWT9O7gCqizh05SGdIAAiordH5eH5AiAVrBvq0OahbDMCKBfXxeAsbxaA5w3lxm0CKK5m9oN+bBDAj1Ft7HYRAD299U8qR2k4WwAmWle9ebwA9BTjtB6VGBd6gcaYurMFoGdnQ0/l1aGLLwN+KoBu8a+L64LdLAD7w/p3/pPZKAATmN3SbbsfQPgpXlh26QBosXZlXdf/htOGgI/e26Ay4EkdQNavfwUuMjv9dd5l1dkzgGh97vhuIYAPZwCUmK1P82CU2yoAY9TPKnKuOmjbJIAuMvueNt4RKKP+9Tfx9xBA7XMKMFr3XJ9KZZGFZg50jgCMzy6qJQL4zkAVo3EvmL6VUwDqLbtXN23cIUPAOgPcKIDlbfq35xCwxp+23RTUuYXeM1dd1VvXl2fmY24K6t4XSVJdNj2rA4jOxfJIL855XR5OzvlDBRCdG99l6c33WzR2WY7NDAHLftqDVgEo1fhv3wno6kuzvwBq/LfdFpy67u0fDdamUkuXP3r8MnsO5ojMkX6/M7n2HFKp/qxVAF0OUH1UDxodIoAKoem9c/Op1KQfynFYlmC5kX0AOZPzl/sO6ABq/LcKYGIOqla37z6AGv+9vhhksmt5lUdw+VFQJ628Gb+yuHn9PG7yYqA/Sye7VujKoMRat3jfXbQD+HAGMOeOmkibMlrX9LsdQB39bRWAjsz2u/a9FmCqo4m9BGD6tZQua03PUemzMqdVv9a6DmiUFgGUA9GvZagcp3EwpBRdVADqMwH0OfcpBc/lstX+VwVQj+pmAbyt4y17CoBMr+WrwS4FA5I5KJgPBUCL5VJ+DDlR4PcDoH78dxmkG4K0kTkoGJDMQcF8ug+AhuidD4shFVwYwAWA/L0AbWQOCgYkc1AwZqQNX5eo819tOrqxAKQDuB0MSOagYG5+SzARwF+rQRiQzEHBiABEAM3AgGTuwvsAWhKAzABuBwMlABCYm38vgHQAf60GYUAyBwUjHYAIoBkYkMxBwYgARADNwIBkDgpGBCAzgGZgQDIHBSMzAOkAmoEByRwUjHQAIoBmYEAyBwUjAhABNAMDkjnZB3AJAcgM4HYwUAIAgZEZgHQAzcCAZA4KRjoAEUAzMCCZg4IRAYgAmoEByRwUjAhAZgDNwIBkDgpGZgDSATQDA5I5KBjpAEQAzcCAZA4KRgQgAmgGBiRzsg/gEgKQGcDtYKAEAAIjMwDpAJqBAckcFIx0ACKAZmBAMgcFIwIQATQDA5I5KBgRgMwAmoEByRwUjMwApANoBgYkc1Aw0gHsI4B5fMIUEgsUzDQ9cWoSAdxJAFOvUKqfBgVTUDDPUeHUUwSALYANMwDC+BkNDMr6qhPGb/98oMH8V8kM4L2GQXfH/BiZAdwMBiRzUDDX6wCmw0oEcDMYkMxBwajj5iLzTh2A6Q75MUoEcDMYkMxBwahJHVXTtWYAsgx4OxiQzEHBqJEOmhhdbQgoArgdDEjmoGCuNwQUAVwpc1AwIJmDgrneEFAEcKXMQcGAZE7uB3AJAci1ALeDgRIACIycAkgH0AwMSOagYKQDEAE0AwOSOSgYEYAIoBkYkMxBwYgAZAbQDAxI5qBgZAYgHUAzMCCZg4KRDkAE0AwMSOagYEQAIoBmYEAyJ/sALiEAmQHcDgZKACAwMgOQDqAZGJDMQcFIByACaAYGJHNQMCIAEUAzMCCZg4IRAcgMoBkYkMxBwcgMQDqAZmBAMgcFIx2ACKAZGJDMQcGIAEQAzcCAZE72AVxCADIDuB0MlABAYGQGIB1AMzAgmYOCkQ5ABNAMDEjmoGBEACKAf9g7A+U2dSUMI4G6K6CnTas0lVbA+7/lDQJr3KRpGpdrZPN/OWfGJRlnA9qPZSXwYYIpJOeKCgYCQA/gMMEUknNFBYMeACqAwwRTSM4VFQwqAAjgMMEUknNFBQMBQACHCaaQnMM6gJsQAP2/BWC7E3Vjad8dbdruRKNVeUd9PwE03YlWK7o/G6EHsFcFQCNnnJeG9tzR2p/FEnpV2lHfLeeM8Ann/GTp3gSACmBfAWR8vasAHJ/hJlPYUd9ZAJmgIQAIYDsBSN0+043imL3dVwCub5+ph8kzc1/YUd9VALGd6dNREgMB3JoAVDOMfaOosB7ALIBI6+vGM4+0qwCygKwwB1PWUd9VAMPp9eCY6zsTwK89AFX/TWPKtF1zOwJoxDl2LvSqvAogUrVAE7OYMgSQygENAbwSQKWEebwzAfxaATTubxpT1rO8nz7WmgIEQL1nds4xs6hyBVA1zMEWIgAT2LUQwGsBVCNzvGsBtI7P8d1bAgjVe3TedwUIQHtm6XQbHfNABQvAlSMACswdBPAbAQzMctfrAFrHvm9n6n7yzF5fLICBeShAAJF5MqkSYA6m1B5AVfXMogoRgPXsGgjgtQDMxDzdWQVgXwogn4dIp8bUbQtAefbq9MrpYisAFU6iMsakjctr2kEAZmT26lUAZOjgAkit2v63R0apWxWAflMA6YpHzKUC6IsQgHYsua51TXECUAlbCy+X3aaPEtffq8coY0NXE4BeYmkmt5iJmklk1Pldoz2oAEb1jLG6D7xo0g5Rptqc/5SoOxRAyxzW02c7zQNTUxYA2XmoTk3eC2S7eUOt0g6pu8gcu87uLAAr0mVreVuaAJwPPnjvHTNPlNrMzjsWO+8uz86x6+lKAuCzWMIcwODmWHy9BKCD0wcVgA/pyzMvh6MJ7Lxz0ZwVmt7eoQDqUwVgxfGM7+kkgDbwjJtUtbBuYGnOV5aOdOFQUGoTAZAxlOtaoc16AEZtuBIw70gaXWhsE3iqKht40nZyXl9/JWCa/tHe9VZPaUCopg98WAFwxg+mqkg4att7V9+DAOzbAqBpOS1VtWd26dTgolpPpn7dwmKX/HL5ZwaqrHfzK+cuFkAXRksbrQQk29TiOOjtpgGbMGnaoAIIMn/JNKR3U8tZtuVAVZd6libydC0BrLHEcSlup/SbTZgvnEbHfFwBeAnpa+rtsq9SgTQuyUFKa3PDAni7AjCdY9cs+c7SGrKTYx5p2cBh3tJ75lQJzT8btTE6potZ0s1sj6ZRlw6FntmPljYRgA1uKU02FIBjP1naqAlIdApU5lfNnPuRx6UKE7pmE5CIqoXom9Q6mXsTzThO/rACGF68i5/NSEM6ejYG56W7IwGs04BdL265KYTGfJrv0zBJAggpnaj1SRK5iV2pyCzm32cBen4mDHY7ATjRmwqAkwK2EECGrF12Yawq4Xr5RUFdTwDn2LkoodqFZbsSCGDBaLX0RLrUtPESvHfe3ss6gBdXPHlWOLdEFwH0lC8TpKrq3C6k+ZvNnMEbCCBXAf8mAGqaevQfXWpH7whgxkdNGwogKVWCm/vtgZslM73dQQAJspM43xAE8BIzinejmY+h6IqawDdbAdg/CCD0ZtmWV9B0qeI/b6jr+bs05nZfUkK/TQWQCIPa4m5A0oF5og0rgGyobQUwepeuVoJbBOD3E0DVBMe+NxDAS5T41A+zwbVptLqbFcDrS4Chm0k3P7pxyeRYnaW7WqYBqwUzy4Aic50X3zNPb1YAo/9LHCdyFXCxADLdBxfb9t75t+GMnzRtJ4BK6SZysCVUAJWxenCuT2+6gwCUtWoNJL8iaxXtLoDK6lo4Ku28Sf+8ox5AThIzLQvC8vLHPJluPcv5jSP6tMgmTx6+WQFEvgA3mQsFQO04qBz7x/rYI/8tojYRQF5spwL3VTj1APxOPQBj1hWdgfapAFQMIa67KgRZwqlDELunAPJRst5p7QLd+DTgmwLIF//juQDS99eVgLkC0CScSqF8mfBmBTCEv8RzJgzq0grARM5msuFjAuiCfy+8XKBsJIBW+mom8kjCY9rEwewiABWjqtYpiZ0EEJjD6TCyP/mInd5VANSv80mB2zuoAP60DkCYu1Q6C+VLX5alB2DOagK1XvfncT1s2QPo/6EHQFOOIo/xDXsAeaJiKwFwoGXQddXAYtIfEKtdBGDWJkTHQhDAGacFAMo7rYKr760HEOyL7DkfGxNzpFNpkK+sKfUJTH5oArebzQKE4fJZgLyaOQ8iMRvNAlASQJ4IvEwArUhP1TnWu54q6p3TlXaupqrxrr5GztkoUVW/EFlU6p2OO/UAzCgynk66srqyFYn2igKgUaR9KX//vEVNHBSNaXmZvuFZgLcFkGw7UmUkt8+1Z9cu04BR5XQf0zfWgUpD8sUWFUA++18ugBS8NMooHZl9s+06gDBa2vJzAVLqBwnODVTR5JyI48ns03hPo1rEsxx6HcBr1iPjnW/WdQByV+sAFgHkq3lKg92Nisg0IW1IAuBoiUjFdXZ9Yva1ITK9ZzesGTwZQxcLIKX/Ng8ESUnFH76v5p0KwI+KNv9gkFaC99JSWnYVvA+j2S3n7JQCUKeesBzxbsDfQKYX70NMPlTzTpImxlu9G9D++W7AdB0aHbswjeKZvV67g47DNEzhlFZWmJ1Mk7j1wRZJGyF0lw6FOrX+/l0ApMXlVQ0brgTMZ//NBJBn3qxZQ1fWKtox58ieB6DUEZ8H8HvUr0fJzDvnRgXwpwqgWW8GML3nhBN9uhtwdJxY7xYlFV2+rS1fHDBPdOFQMGarh4KadogSx1pt+VRgUlf5aDCqds45OvoTge4+mF8FoEUmdTYTJJKipCYG772M6rR9Mm0MqQ6ifO+QeO+DtHl+YBSR7uKhQFsJYH3KTnGfC1D689fvMJhCcq6oYJIA3iUVOpZebVJV5lXJSoU8FrzUDwY5Rs4VFUwhOVdUMJt+NiCV+LkAEMDvOWAwheRcUcEc4JOBSv104MJ39B0GU0jOFRUMBIAK4DDBFJJzBa8DuIGhAAHcVM4VFUxRAigkGAsBQABHCaaQnCsqGFQA6AEcJphCcq6oYCAAVACHCaaQnCsqGAgAAjhMMIXkXFHBoAcAARwmmEJyrqhgUAGgB3CYYArJuaKCgQBQARwmmEJyDusAIIAb2NF3GExRAigkGPQAIIDDBFNIzhUVDCoA9AAOE0whOVdUMBAAKoDDBFNIzhUVDAQAARwmmEJyrqhg0AOAAA4TTCE5V1QwqADQAzhMMIXkXFHBQACoAA4TTCE5h3UAEMAN7Og7DKYoARQSDHoAEMBhgikk54oKBhUAegCHCaaQnCsqGAgAFcBhgikk54oKBgKAAA4TTCE5V1Qw6AFsI4ChbguhrvuuLYWigmn7vi2HrgwBoALYpAdgGgA+hq7eBQK4lQoAgNsEAoAAwIG5vR5Aba+EhgDA3aM7dS36TQTQdM/0V/nqIABw7+ihvxbDJgIgY8gQXeF/QxUAdw4pZa/1XzlT5QCABZzmAAAAAAAAAAAAAAAAAAAAAAAAAAAAAAAAAAAAAAAAAAAAAAAAAAAAAAAAAAAAAAAAAAAAAAAAAAAAAAAAAAAAAAAAAAAAAAAAAAAAAAAAAAAAAPcBmR+PVAEAjod5fPr+8/N/DxW4Hcg8PlagDOiWT570+P3zly+fv3w1FbgdHr59/ao+rHoc4/8Hj9+fbnfH0s//Pn1+enz+G27ZYpvy+OMGdsXjl0+ff1QfQ337XtRApYcH9W5A5UvOfEuH4qqQeXgwtMmZZM7/qqouebfnIBTd39nl6b8f5f8t6uunLz8/Nkro56cvP6rNIWXMw+Ojoo+fe74/bX3eIfV0xbNxTqFP36i6Kurped9tcQ1IT58+/1QXmu+5dfD95/r6x/+4t7YlR1ZcOzwAT7oSXP7/S09KSSrsbWdXTbX7TM9QDxVhk4CkpaUL6db+R5oIVQH//pSu6tcEIK2t1p+AOuunvX8qa1MCbvPf5ICsyMjps4mRsqavaLF+Nl4JlPL/XUB3RoYPGLMuKig/ZSFFhk19HQv9/V7zrZGZ4Cmlq/Uv7PJkLdS+ONUwlKwQY9CnM4Dap0IpBFCOQTq+VWBJvkTQoeGuMvoH8LOAbikl5SSS0mhrdet7fyrP64f07UW8n48aK+R0TwA6eN3YX75/htwKsfyU+dyAoQRaf52X/NS1Cqxtij6OMdf464oCQ93XBNAWr4BVK0XzZ/2fgZuyqjIgFdT6jagBqH0zLWjrda/VAPn36WlAuSOAuvgYyEBAwAi6PqSMRcTXWokBVX7TtJdn1zVXr+81D9haugNwqPgb5ijY0o9rHzPgXggL/jf0zr4zBu1sJk0EIgDgv6x7dgyBr0uABagzIizDh3tVdWJ0S1LvDUnzd859xcvMxO2hPvlEJd1vCaD2Vqj4oEKMPORDeJ1kZBK92d+ts/KkLcJAQJYbjALfmd9V2eq3E0noPyYA4lmjJC1/nZP8RlMHxQPcBgzg+NdfNgS+VLijpEcBAPBhCwmbmurlR9K+U9And/Sotbhe5+Pyy0q6frOkvSOAKkYAeBgTtekcq+dqq35gTAsYL87347UHFpRrYb7h7E6E874//O1cL7dSfocAIPZpFpD+0+MjFnWleD2TFtMxuM3517104yw1JFfp9T43hcBPteRYPnwRQdjruDim4y8dONcrbeB5lQClcI3DIs5xv9cc3wtodAf9wW2uvlaXXHNw1vjA6z1BAE/i5fnDkrjBIwHouMtSYd6yIPL8dglAwPk3MNhyaIF+InDO9aNu0foH2KFj2XEk9b7w3yW2+qczoaB5QGWE29LroetXRYnGp5slhEt2jKrSdCelWepr/F1tY7KmVEMEnBJTktT6dLn4JIre5rT5oXkoTDfJb53UUv0HBAbfZusyrP0jIUpO9d5jiXuc5hKvq/4MB0rlhJwYm81eQwQ/TWQAUXbUY7g+R6/PKq49fx3E6fmcKRKox7Xz6PkdAfBMod+i6S2J3vtDrTJ1yfPk+pOgfz21bjujVXofo0vs9qvNpsW2rY8WCrpD3ysLjVS/wQa130Tk0HtNI2weEIzibQ+y+iTm5OfuVFsXFCaYfT7dA5jLS8jalQlmds6c3HtKD7rNSxGIcNTLsaMHsEbNKftz+VE6GTp7SiHyQM7bjuNRDFmjgYaTpEll3oTFN13qhfp+1bSYG2o02nKfPJ6F8pFExrRwIcFbNVp514dhxHOlMVdPkusvog+pm0ypEKy6dTgW4srB7TCnVD9RX3PKMZ0JZ3riTmGVC4ZS73aLEsAB11R6wMjWbt3WBmzpDXsYQeVUs6cr2E+d1MB+7Uv6XENu0jpFImC5Jk/pa61/TO6y9VdFXr0qZ5ldxtUtndDyBnxPT4ZazIqKOrM/VsU3u2myZtNp3kLe10h9DXX0hfGrnVIL4KrRen4foNMaE/nmcqGONWc6/iFdNk//gGB1AgAEAsQex+bVc8wZAHNmR4nZcHz+RyQ9T4KRe4NC3rqqokBFtam2AMJiBGu92QThmSOJAeLWmNuhoqQzhfh5+p1CU9atoYmcNrsCr/zg1jZwBE/cXo52eOkx1nkRQG/Eq4b2dSipggLBrKdQJYQK6aUvRSw2YtMeh1vIsmEOGLLVBYyAzHOlfPNizq7ga+5YgrXEN4qMuwOAuu7k4PlCPBvu7x9U3LnwMjTIaLxuSoBjC+Pg6nGegVC1sa5UXQp4XPuFAC4DdiMAn1CTBvilTfc51bc+kCfisfvO2VKbzSY3d5ig97GUkfvO1/4l+VSurrR5sTVW5nbKXNvFU8LAYdE82mBQJoWTUdO0zVgbr3yXxvfNOlio30XAZ/SJ6szCSOaZfSOZC6i8v6+yabPe1YGks/mcGwg2M0mXuZaCS1pTAyrMTbn1bT0C8yLP01ygz49FZPggaGuY7xhmoSkf//jiLrMPIhMcM3qBh5sjQDXIDUe0n/rKfQuo2j9ssrdZNULWqJdhuRAqFg2vs9L4KwKIMQuNCIQ4grTR0nDENidzfRXKh/gVUbG/Y7BEZJ6yDUwzX8UarBqkh0QW91DXTQNqw0emaLkOKI0KMAOMqO6Q1RwwmRT7FKdqBlwqTsc00FGzRdoXvYSqkZEtE88TTEJV0/HptDMkdCFeGtGIigTYgwBGQ0K59AhgTCdzvgNfRzVc7PkDAXAuSStwkBUAkPGkiDpJ++i7+GTJ288J2+rm4tkIgLaGhsnVIwVlJULAOU/O7wi0Nxv1y4tlkPfxb3EhdvQFxHAwguurO4GdLjzeZP9aCiqb7M8jwnvoHccbCLrC7eFc6wIeTpDHI5fbzHR6DbLCbtX+Ef8X9pOijnrhiVpPfXrM9zBSF+EQkTRwesjGEfoCHUik3QwWfl0NhzySDCdTFcPVCa8swz7iFD1/mKl2pHU9SjRvDFnK9BeBevQaqn3mqy4osWoazarwZVVv7SM9CUUu1G43ArIapLbH2pgmXhBO8jwBzSCyOzHFTNKYGQqu/P6HBeTLTWh8rOySGVy059yKytVywzmB8Di/H94pGI3FHBkjzGNgaCZAemc+i+3h3sOpSqQrgsmRPaWKteGf5+3H9DbMinIRgCDAdjwZjcDCVZUGKu8k1S6SZGI/Jk8i8/ya5p5ck18z9iTu1V70wpToHnlQW0ieRueBTuBm/3pa1KBz1WANtkWPQ4+c+gRS32wB9x9eLOcLfQDrmkrYEAovdLt1hcuD/zkscjWpotTy29xi23ROKDze+VWN13pyc9CnZhIfc5bDtOVam5WQDpX6J28jAXHtKq0pnUir0rVQm91jGsv57fJjzxz6aj034l6dGC5VDDUMVYNAn265enCZw2oxUrhTvH4qGJQw4bYJWAorojZeYc/lobtOWzUIYCEAabpI4vhaqYRQZEJtXAzLnGt2Y20MaKHtJv10w6G29iaI1M6rm5zTgvfv4GYmhULDNMV6VQNKhfuZsqxNADhF0JVdh83jJXlxy/ZgoKo6OdgB9B2IU2PGE6MMS5S3k2cZXGBaUvCw9ksvrBso3Y/3lUUS9dUcbw2A7JFkfPIG5om3xbPKwXYnX6beEDT50VWhpXqWP6vuG9ZIqjh52kiGlCyTEfcp3KIKbtF6ZSJkDnF1GheCP56lIbB8eW/N+YYZAn3b5CYxI608zW7CcLox91fZ3SJO9+MuuyikK6eJs76DYOK46zXyM32RhQd3m0akaxiEZupIM/3JHyVSiw6xoPl/JLOg2Kq5HrF3syWfvCXXbJNAhlz+uT9vhvaoxxEV05EBEI/aEYjnDjGeF2E6WUivCHx3DShM+50OlRoEUGzV4atufzSbEAdnvwg1XShjtWgNpYFxB67hakIFZ/UUdcI28zLWqBtX5Cu8QgMUbDlB0gHFZZVGtoFpD2aOkqj2kSP3dKkk+aStygA/0FuY5dZUFbwUTV0GRJbvNae6FsTZ2E6W3hi/VTfg1rzlC7ac1pMLtSfpjYluCADY7wCkHjYn7lnEJ2vyr7FtLhUnh45xOWe+R+sshFZOMhsQbAKweDLME41sc1gUH3TtKVIWmUoEnL4kgLdT8thf9ECfAHk/KDu0TzLE+a6E6GrGdx3wqncZK582zc8QTCcEs0bImlYnZ3b/j+yEWfM03DlK/tgQ2tB77phGYd2qV8OMBdvIZ3FzSbw8QkSAjvfpm4eQSBTdMwehLlP5EsHdGUtKJ/eOaKYkdVq8sdcxjedjS34V1DHAVu3udRuXzbUdQj2ydGcPQwN9n5cTa3TtOoHObrlqz2yxwpEXklUubwkgK5jPzjoNyQz+isHYDJL4enNfw1dfjlibPROjTyx3CYAqEEBpS5KXzQ9Qr8uqnb32uun/GNgfm0Emk4UuTOcR52JEQECVtxezoECmHyN9mkP35L47BPnpp+/G0xswoxh7+hc6Gh4DdstvEmo3YLlFYby1qFUbsdlXrfHKr5laQK2e6MNVo1FrOvSs4ACFUyC+2rl6uNnKDdO81Fco9xCsNQhAGEb1t2rGU7xj0TDdn8wAWn7qCqWnPudyOpoyGQBaNgKgywcmIkioJDrp4URx3cn5gBfqbLQlxTNGuHz+7Hb7OvguA7DHKO5n4w4BdaorN2FBrQ48AtxHCaHkIfFzBnu8bky9uS1eCaDtt2O0AEskqHvvuwwAB0NRYdMTG7isV0GaNsL8ocoID3I61kPQFire1yZ448OirNbA3UnJCls+nk/gDkV1InB6OAMSscra4NaC6umALkn13fZzpcZAsIxCsdlk1tnPyV1njmBoR+iMzOcB186rB1FDKubfXepJxahLC3ZXFvr0YRaNxdwM4L0PjM1+Maq+tZP3IQJ9UZlsAjA04XlDn/X1FiHQPqKefRnDTX0PwaybflMDq2qfiMaR0oSR2h8nABrvGyZV4p3WWu3GcCH3BwKoBwEA9EeV5PNzdkhG/6aAx0CcsOt7LoD9zKLdrKLRhevNo9i7kV+YvNZFPAHcFpm3k3aDscl0L1T0vG3U7lU+rPpEALUDTtw5TitkYPFUvkmN/lyrr3YH7E0B2LN2NcGcqHpU9K1uAkiP5qb1lAHk/2vv2pbkRmFo6YHlCYygBPr/L90+ArOetr2TpNKVzgwnVV3dDrZBN4QkGPs2LGiC46Dnd3kh5wvE92QAvOjoOyHQcm8AZHZ860uJrq7O4hXwL2Jjd19qSdILVHTrjctsrKlQb1WThRUQLUrix+SbmjfFsM06aeb8W0glBBMxioOjFRxl/yGwf3jZLxoAPknfSM2Xno3IwWLxJtn1Iv7JI+UDgbk/8edeBP1wAjmHgleSXR3gmv+JlVIED19dkdw+uo1t5vJiz6JPtND+i11yz18fDEAfIzFHfJ0yFuG+Yphpr7gtoGxX6cSgYkDCpI3q5DuLSmk+1TF0iCpytua1Dk+jK6mlwg5kuxyUxsE4bhGpl31qz0OdmF1Bj6GuPTcwkt1QxSpM3UZfiNtWqMUNswfjRhuzmn576bFKNlE7bnumeDAmRmKyPgxpb6VPRleYniSkcYqcRwImyIxX3cVVtyiTTDYTc1evJn2iiqqf7rmiEmr3bVSrzMZtH6BE0xJwqNsbwvTdxI9quFIPe3Wlc7SaSR9mFx2ZijATs03PxY03o0x0L0+QPjBp9HnP20rAVwvR6kUasEeQPKTobs3KAU+9F0HfPVfGjjrtfJ4yQDkiCU3Jxv1SoJa8+KPTH83h85a4btRNFjtPUvPWDUAkqi1XxADinOoV4S4nLSslkA6Tk2VaYLy7iMOj221jIrM3oYnm8Pg5PKlxr0htfDZVW2pcRUqKjVWbOranNrdX14NhKN3YQ/mOhR0GFTAojx3VY1BOkSpvLVsW0wm0hKkbJ7bhkc0MeQatEo/o7gZHWb0E6OlFeXXFQgb3MoYK9UTfcxXIfYoQhRFhuz4dZvRBQGIISCxUwzYKMc/Q3WT6gpeBV30bXFK3P7vdxQCODMSmGdnTY7F6LHQhnHcGwEl1zrFoMifHkskqs7FEKwEx0o5kDeZE5zQleC1ExF7icOTnXZ2jfowsFD84GtTvHPXe5DTrZwbA8wMVSRUVEXdxlJJogjAegpPQ7GGSc1PfL+pFBqFIhZOQRvr7MkZaD3oVul5NEXTgOak+bKHyGHlopjYESmXyaJL51VsStq0cazuNIKhR61zrHlgqGb+j9OUbGkXE9CM0WNj1RD+K78AoLYiD4yF52zlHMyWO76EHRQUxMvwrkmdaZY/1+7MBQBdiTBaciUkZ16bmIF5vFoAsHZ611ppjSPVyUGAhEJBVgKikbYtIZ+FWG54r3V0HnNkJ9iZUDYV2zXG84o7EIMMGZcJQu+zn2JN5sWqwBZIG5PzF+N2HrQeVBokDSIwJCp/aOsmvs1ljGueSTZ9KKaDVXgV9bwAkhMlAKzopMouWssPk0JcFrQpzdecSsmxvtEiuG41LUzSmvqWpCpyr2MMQgjxXzltMIE96gL32wHtuDXcx6vam3gg4CifcacKTd44KbJ3dNl52oyOWHgp4AYxTqidWDelrkga1ZGZ5CJem4OWLSE+/N0m58VkZBuBWr4ajl7a0DS/a6cc21ZLi6JAwOf/CJcDBz/eOGAUyW0rbXHY2oyA+mjOuwB8FPb15jVDJ5uHjo9sRU4cjDfgfXIqFRk4RmjZ39saY9yQ1OI75NBTxEveqNbnoacdmH1u3Fx+emjHpjHLGGB6AaWEMCpU0Y1BtZz9iUrHk4eIyQpRyGB6oP1fIJCWm8QvDq9z90BvfUCMkavi4EA/RPq7sYFeSEhXQLoyH4lmTC6MPIKUdClXtnYICRLnmYOK9Y4JObWYHsNyeouxvvOMwGKiPPk+PxtfQ/VouKYCF1s9TJDH3CoVBhdk4gnqhQaILyiZhYscKR6A1cdMWt4immSH2UNFgd8VM4GihuVrOMRXqKaBtcLRVgkbhZeO26cJeSwy8p5Bb4VNeKT1JH/Z/ZDdj19nv7lk525bWZbF5hvNY3f8f+AG9Ooig7wYAhEGBw96GGqY+a9PdWsq4EGJM8kID8FQnwS3lVGopszhoA+HnoRlkaXcVB61OEf9jsub69U4KrznlpK0UtAMqbp+gWmKzrHwICSz18KeSc7W1tAW86yK/lpCUTyGaVJml1nIkPWnpgV3RKi2nHLM8Daqxn+4hiwjN21lTJvQMXVJIQ1Y6ikuLHwTtcoHmkF2EeMQoe0AvclfqEHIVD0VBDlwyaBf6GsOlD34kTVK6nJWHyGkGyU5oxyJ/LyWVqFpK5Um3+1wSTwaiBrjMGu9ixgd6ViLKUyG7z8aO8pCLon4/YjTtjbc2ngPpbVRgAEzlLHRHJaDAtbEzumKe6PN0dl7xuAneOVrB0QKO8pgvDy8r95PbA1avrEQXZRTG6kowQ5A+W2+5MbrYZG5QyXThXWAolUFyhO+u3h7rvV5BnkuLHzcaUMsP1LaXXntJKKY1m/giuHY6m9KTE547kkBqbS2VyvuFWssIHBLxwVJILWXql3MkdNgsTuKf9mqwPUvruNvVgtCId6IV106QylxVSGstWjqj+PmplfbwOeFB5I+Dsv5MPJ8U6YjG8HIj+3Lu8ZMBKGeu94IfL+znKQa82yRnHXNkG/SIWHMb/S0zbDlJbB4E5+oPW2/l+jyjeuwlOSEi7+cVi8ad8cxAco7muwZdwY2WCwx5fp5BWZtqSe1AY8ezsQymq3Ily7mM3bFVyQRdU+bpUOUMm5Vh9pk/Up0mR/3k6HxZtpfdlQJAclUqO8bH1ejrlDRXYXh8FdoVXA5WVS6sx4GhXBpdRdeKO+nVgTPNPFClpzbMNHWvS0lpr6wE8ozOf4IhGxPu+Mv/2BEc/vTztsXNU066+yo4//kILOhezvY01Cdr6i/G55+/nGOe3h9vvz+5//ODPCq8nl8/N8U792iCzws6nU5ZODW+Pm2IiJSP7wBHYZ5/hrG4zffbfgP8b77Xq9In8ffG/Plr3/FE4wVAr/YtuRPXXw21yon3RtvWHy48g77IEYzfFdgv/OMTyQvXcO9vABTVggsLXwDezbkeBuCPg2OIb3+ef9vC+suFC18BrrZZrYXo2x+HxKjv7koi4/V2x3IvLPw8kJkuKirCGhHl/dPwGuXd9R9BwPR2x3IvLPw0vGjaYkIdSz9D9Y/D69/gW7ctyl/QzYWFz+Ck5L59JL/HzPtXhJI1/JPfPVC5sPBjcE5zzm+/8H4n4NCdRa+FrwLvnFse7c8VnOdFsIWFbwqKj4zpwsLC94SE7W+IVS4sLLwCktLKAiwsfFc45qX/CwsLCwsLCwsLCwsLCwsLCwsLCwsLCwsLCwsLCwsLCwsLCwsLCwsLC/f4F5yY8JFZHyWpAAAAAElFTkSuQmCC)\n",
        "\n",
        "\n",
        "It makes use of trigonometric functions:\n",
        "$$\n",
        "f(t) = \\sin(\\lambda \\cdot w \\cdot t)\n",
        "$$,\n",
        "where $w$[rad/s] is the sinus frequency, $T = \\frac{2\\pi}{w}$[s] is the period and $\\lambda$ the wavelength. Hence, if we have $\\sin(2\\cdot 2\\cdot \\pi\\cdot t)$, it corresponds to $\\lambda = 2$, $w = 2\\cdot \\pi$, $T = 1$s.\n",
        "\n",
        "Now suppose we have an input sequence of length L and require the position of the k-th object within this sequence. The positional encoding is then given by the sine and cosine functions of varying frequences:\n",
        "\n",
        "$$P(k,2i) = \\sin\\left(\\frac{k}{n^{\\frac{2i}{d}}}\\right)$$\n",
        "$$P(k,2i + 1) = \\cos\\left(\\frac{k}{n^{\\frac{2i}{d}}}\\right)$$\n",
        "where\n",
        "- k: Position of an object in the input sequence: $0\\leq k \\leq L/2$\n",
        "- Dimension of the output embedding space.\n",
        "- $P(k,j)$: Position function for mapping a position $k$ in the input sequence to index $(k,j)$ of the positional matrix.\n",
        "- n: User-defined scalar, set to 10000 by the authors of [Attention is all you need](https://arxiv.org/abs/1706.03762).\n",
        "- i: Used for mapping to column indices $0\\leq i \\leq d/2$, with a single value of $i$ maps to both sine and cosine functions.\n",
        "\n",
        "Here we have a clearer example:\n",
        "![Positional_encoding_matrix.png](data:image/png;base64,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)\n"
      ],
      "metadata": {
        "id": "qRGH8ofb0JM0"
      }
    },
    {
      "cell_type": "code",
      "source": [
        "x = \"I am a Robot\"\n",
        "input1 = x.split(' ')\n",
        "input2 = padded\n",
        "\n",
        "def pos_embedding_matrix(input, d, n):\n",
        "\n",
        "  matrix = np.zeros(shape = (d, len(input))) # Wrong!!\n",
        "  matrix = np.zeros(shape = (len(input), d))\n",
        "\n",
        "  for k in range(len(input)):\n",
        "    for i in range(int(d/2)):\n",
        "      matrix[k, 2*i] = np.sin(k/n**(2*i/d))\n",
        "      matrix[k, 2*i + 1] = np.cos(k/n**(2*i/d))\n",
        "\n",
        "  return matrix\n",
        "\n",
        "\"\"\"\n",
        "Solution:\n",
        "\n",
        "import numpy as np\n",
        "import matplotlib.pyplot as plt\n",
        "\n",
        "def getPositionEncoding(seq_len, d, n=10000):\n",
        "    P = np.zeros((seq_len, d))\n",
        "    for k in range(seq_len):\n",
        "        for i in np.arange(int(d/2)):\n",
        "            denominator = np.power(n, 2*i/d)\n",
        "            P[k, 2*i] = np.sin(k/denominator)\n",
        "            P[k, 2*i+1] = np.cos(k/denominator)\n",
        "    return P\n",
        "\n",
        "P = getPositionEncoding(seq_len=4, d=4, n=100)\n",
        "print(P)\n",
        "\"\"\"\n",
        "d = padded.shape[0]\n",
        "Matrix = pos_embedding_matrix(input2[0], d, 10000)\n",
        "\n",
        "\n",
        "\n"
      ],
      "metadata": {
        "id": "HGc4WVy8okB-"
      },
      "execution_count": null,
      "outputs": []
    },
    {
      "cell_type": "code",
      "source": [
        "padded"
      ],
      "metadata": {
        "id": "weL9SCM5vgQz",
        "colab": {
          "base_uri": "https://localhost:8080/"
        },
        "outputId": "5b4ccf17-9582-44f8-d06f-83bee8edb8ec"
      },
      "execution_count": null,
      "outputs": [
        {
          "output_type": "execute_result",
          "data": {
            "text/plain": [
              "array([[ 2,  3,  4,  5,  0,  0,  0,  0,  0],\n",
              "       [ 6,  7,  8,  9,  0,  0,  0,  0,  0],\n",
              "       [10, 11, 12, 13, 14,  0,  0,  0,  0],\n",
              "       [15, 16, 17, 18, 19, 20, 21,  0,  0]], dtype=int32)"
            ]
          },
          "metadata": {},
          "execution_count": 17
        }
      ]
    },
    {
      "cell_type": "code",
      "source": [
        "Matrix"
      ],
      "metadata": {
        "id": "eklGPVUpvye5",
        "colab": {
          "base_uri": "https://localhost:8080/"
        },
        "outputId": "3022d0bf-07d8-4c98-c2e3-50a3dbff4a56"
      },
      "execution_count": null,
      "outputs": [
        {
          "output_type": "execute_result",
          "data": {
            "text/plain": [
              "array([[ 0.        ,  1.        ,  0.        ,  1.        ],\n",
              "       [ 0.84147098,  0.54030231,  0.00999983,  0.99995   ],\n",
              "       [ 0.90929743, -0.41614684,  0.01999867,  0.99980001],\n",
              "       [ 0.14112001, -0.9899925 ,  0.0299955 ,  0.99955003],\n",
              "       [-0.7568025 , -0.65364362,  0.03998933,  0.99920011],\n",
              "       [-0.95892427,  0.28366219,  0.04997917,  0.99875026],\n",
              "       [-0.2794155 ,  0.96017029,  0.05996401,  0.99820054],\n",
              "       [ 0.6569866 ,  0.75390225,  0.06994285,  0.997551  ],\n",
              "       [ 0.98935825, -0.14550003,  0.07991469,  0.99680171]])"
            ]
          },
          "metadata": {},
          "execution_count": 18
        }
      ]
    },
    {
      "cell_type": "code",
      "source": [
        "print(f\"Input = {input2[0]}\")\n",
        "print(f\"Output matrix = {Matrix}\")"
      ],
      "metadata": {
        "colab": {
          "base_uri": "https://localhost:8080/"
        },
        "id": "Q4x_NbZuUQrs",
        "outputId": "d0b72075-6b43-4722-f0d9-19cf0dd04947"
      },
      "execution_count": null,
      "outputs": [
        {
          "output_type": "stream",
          "name": "stdout",
          "text": [
            "Input = [2 3 4 5 0 0 0 0 0]\n",
            "Output matrix = [[ 0.          1.          0.          1.        ]\n",
            " [ 0.84147098  0.54030231  0.00999983  0.99995   ]\n",
            " [ 0.90929743 -0.41614684  0.01999867  0.99980001]\n",
            " [ 0.14112001 -0.9899925   0.0299955   0.99955003]\n",
            " [-0.7568025  -0.65364362  0.03998933  0.99920011]\n",
            " [-0.95892427  0.28366219  0.04997917  0.99875026]\n",
            " [-0.2794155   0.96017029  0.05996401  0.99820054]\n",
            " [ 0.6569866   0.75390225  0.06994285  0.997551  ]\n",
            " [ 0.98935825 -0.14550003  0.07991469  0.99680171]]\n"
          ]
        }
      ]
    },
    {
      "cell_type": "code",
      "source": [
        "obt = out_embedding\n",
        "for sentence in obt:\n",
        "  obt = obt + Matrix\n",
        "\n",
        "obt"
      ],
      "metadata": {
        "id": "t9DntdEnWD5s",
        "colab": {
          "base_uri": "https://localhost:8080/"
        },
        "outputId": "9bed4c93-5e46-4961-80b5-1ab8e3bd3968"
      },
      "execution_count": null,
      "outputs": [
        {
          "output_type": "execute_result",
          "data": {
            "text/plain": [
              "<tf.Tensor: shape=(4, 9, 4), dtype=float32, numpy=\n",
              "array([[[-0.0482394 ,  4.0301948 , -0.04998225,  3.9608963 ],\n",
              "        [ 3.384916  ,  2.125745  ,  0.01014697,  4.0098577 ],\n",
              "        [ 3.6048603 , -1.6645212 ,  0.08930746,  3.9874907 ],\n",
              "        [ 0.51552516, -3.9416304 ,  0.08949097,  3.9891984 ],\n",
              "        [-3.0211794 , -2.5806918 ,  0.16120526,  3.973613  ],\n",
              "        [-3.8296666 ,  1.1685313 ,  0.20116459,  3.9718137 ],\n",
              "        [-1.1116313 ,  3.8745637 ,  0.24110393,  3.969615  ],\n",
              "        [ 2.633977  ,  3.0494914 ,  0.2810193 ,  3.9670167 ],\n",
              "        [ 3.9634635 , -0.54811764,  0.3209067 ,  3.9640198 ]],\n",
              "\n",
              "       [[-0.00891959,  4.0379744 ,  0.03347529,  4.024857  ],\n",
              "        [ 3.3777392 ,  2.1494627 , -0.00435152,  3.9598274 ],\n",
              "        [ 3.6473885 , -1.6892551 ,  0.03066281,  4.047397  ],\n",
              "        [ 0.5884063 , -4.000972  ,  0.14059909,  3.9483662 ],\n",
              "        [-3.0211794 , -2.5806918 ,  0.16120526,  3.973613  ],\n",
              "        [-3.8296666 ,  1.1685313 ,  0.20116459,  3.9718137 ],\n",
              "        [-1.1116313 ,  3.8745637 ,  0.24110393,  3.969615  ],\n",
              "        [ 2.633977  ,  3.0494914 ,  0.2810193 ,  3.9670167 ],\n",
              "        [ 3.9634635 , -0.54811764,  0.3209067 ,  3.9640198 ]],\n",
              "\n",
              "       [[-0.0295014 ,  4.027361  ,  0.04749337,  4.0412893 ],\n",
              "        [ 3.3569994 ,  2.1439505 , -0.00769756,  3.9595745 ],\n",
              "        [ 3.619817  , -1.6483109 ,  0.0332661 ,  3.9888859 ],\n",
              "        [ 0.52582455, -3.9300423 ,  0.15106124,  3.9606373 ],\n",
              "        [-3.0274234 , -2.6177309 ,  0.12493384,  4.0115423 ],\n",
              "        [-3.8296666 ,  1.1685313 ,  0.20116459,  3.9718137 ],\n",
              "        [-1.1116313 ,  3.8745637 ,  0.24110393,  3.969615  ],\n",
              "        [ 2.633977  ,  3.0494914 ,  0.2810193 ,  3.9670167 ],\n",
              "        [ 3.9634635 , -0.54811764,  0.3209067 ,  3.9640198 ]],\n",
              "\n",
              "       [[-0.02558209,  3.9851022 , -0.03942671,  4.008733  ],\n",
              "        [ 3.32009   ,  2.1485193 , -0.00504692,  4.038695  ],\n",
              "        [ 3.6787717 , -1.6983354 ,  0.06738945,  4.028802  ],\n",
              "        [ 0.6030036 , -3.9246635 ,  0.11986168,  3.9737785 ],\n",
              "        [-3.038371  , -2.640397  ,  0.19048919,  3.9757974 ],\n",
              "        [-3.867178  ,  1.1071986 ,  0.19218713,  3.9523344 ],\n",
              "        [-1.1377108 ,  3.8697925 ,  0.20871775,  3.9628305 ],\n",
              "        [ 2.633977  ,  3.0494914 ,  0.2810193 ,  3.9670167 ],\n",
              "        [ 3.9634635 , -0.54811764,  0.3209067 ,  3.9640198 ]]],\n",
              "      dtype=float32)>"
            ]
          },
          "metadata": {},
          "execution_count": 20
        }
      ]
    },
    {
      "cell_type": "markdown",
      "source": [
        "Let us understand better what is truly happening here:\n"
      ],
      "metadata": {
        "id": "QIOFwehzo5-l"
      }
    },
    {
      "cell_type": "code",
      "source": [
        "def plotsinus(k, d = 512, n = 10000):\n",
        "  x = np.arange(-5,100,1)\n",
        "  den = np.power(n, 2*x/d)\n",
        "  y_sin = np.sin(k/den)\n",
        "  y_cos = np.cos(k/den)\n",
        "  plt.plot(x,y_sin)\n",
        "  plt.plot(x,y_cos)\n",
        "  plt.title('k = ' + str(k))\n",
        "\n",
        "fig = plt.figure(figsize = (15,4))\n",
        "for i in range(4):\n",
        "  plt.subplot(141 + i)\n",
        "  plotsinus(i*4)"
      ],
      "metadata": {
        "colab": {
          "base_uri": "https://localhost:8080/",
          "height": 411
        },
        "id": "sy1nxNbbrSGD",
        "outputId": "74328272-5ed8-4932-859e-b49d887453ba"
      },
      "execution_count": null,
      "outputs": [
        {
          "output_type": "display_data",
          "data": {
            "text/plain": [
              "<Figure size 1500x400 with 4 Axes>"
            ],
            "image/png": "[encoded data removed]"
          },
          "metadata": {}
        }
      ]
    },
    {
      "cell_type": "markdown",
      "source": [
        "We observe that each position $k$ corresponds to a different sinusoid, which encodes a single position into a vector. We can see that the wavelength for a fixed $i$ is given by $\\lambda_i = 2\\cdot \\pi \\cdot n^{2i/d}$. Moreover, with sine and cosine functions we are kind of converting the positions into their binary counterparts, as can be seen in the following image:\n",
        "\\begin{align}\n",
        "  0: \\ \\ \\ \\ \\color{orange}{\\texttt{0}} \\ \\ \\color{green}{\\texttt{0}} \\ \\ \\color{blue}{\\texttt{0}} \\ \\ \\color{red}{\\texttt{0}} & &\n",
        "  8: \\ \\ \\ \\ \\color{orange}{\\texttt{1}} \\ \\ \\color{green}{\\texttt{0}} \\ \\ \\color{blue}{\\texttt{0}} \\ \\ \\color{red}{\\texttt{0}} \\\\\n",
        "  1: \\ \\ \\ \\ \\color{orange}{\\texttt{0}} \\ \\ \\color{green}{\\texttt{0}} \\ \\ \\color{blue}{\\texttt{0}} \\ \\ \\color{red}{\\texttt{1}} & &\n",
        "  9: \\ \\ \\ \\ \\color{orange}{\\texttt{1}} \\ \\ \\color{green}{\\texttt{0}} \\ \\ \\color{blue}{\\texttt{0}} \\ \\ \\color{red}{\\texttt{1}} \\\\\n",
        "  2: \\ \\ \\ \\ \\color{orange}{\\texttt{0}} \\ \\ \\color{green}{\\texttt{0}} \\ \\ \\color{blue}{\\texttt{1}} \\ \\ \\color{red}{\\texttt{0}} & &\n",
        "  10: \\ \\ \\ \\ \\color{orange}{\\texttt{1}} \\ \\ \\color{green}{\\texttt{0}} \\ \\ \\color{blue}{\\texttt{1}} \\ \\ \\color{red}{\\texttt{0}} \\\\\n",
        "  3: \\ \\ \\ \\ \\color{orange}{\\texttt{0}} \\ \\ \\color{green}{\\texttt{0}} \\ \\ \\color{blue}{\\texttt{1}} \\ \\ \\color{red}{\\texttt{1}} & &\n",
        "  11: \\ \\ \\ \\ \\color{orange}{\\texttt{1}} \\ \\ \\color{green}{\\texttt{0}} \\ \\ \\color{blue}{\\texttt{1}} \\ \\ \\color{red}{\\texttt{1}} \\\\\n",
        "  4: \\ \\ \\ \\ \\color{orange}{\\texttt{0}} \\ \\ \\color{green}{\\texttt{1}} \\ \\ \\color{blue}{\\texttt{0}} \\ \\ \\color{red}{\\texttt{0}} & &\n",
        "  12: \\ \\ \\ \\ \\color{orange}{\\texttt{1}} \\ \\ \\color{green}{\\texttt{1}} \\ \\ \\color{blue}{\\texttt{0}} \\ \\ \\color{red}{\\texttt{0}} \\\\\n",
        "  5: \\ \\ \\ \\ \\color{orange}{\\texttt{0}} \\ \\ \\color{green}{\\texttt{1}} \\ \\ \\color{blue}{\\texttt{0}} \\ \\ \\color{red}{\\texttt{1}} & &\n",
        "  13: \\ \\ \\ \\ \\color{orange}{\\texttt{1}} \\ \\ \\color{green}{\\texttt{1}} \\ \\ \\color{blue}{\\texttt{0}} \\ \\ \\color{red}{\\texttt{1}} \\\\\n",
        "  6: \\ \\ \\ \\ \\color{orange}{\\texttt{0}} \\ \\ \\color{green}{\\texttt{1}} \\ \\ \\color{blue}{\\texttt{1}} \\ \\ \\color{red}{\\texttt{0}} & &\n",
        "  14: \\ \\ \\ \\ \\color{orange}{\\texttt{1}} \\ \\ \\color{green}{\\texttt{1}} \\ \\ \\color{blue}{\\texttt{1}} \\ \\ \\color{red}{\\texttt{0}} \\\\\n",
        "  7: \\ \\ \\ \\ \\color{orange}{\\texttt{0}} \\ \\ \\color{green}{\\texttt{1}} \\ \\ \\color{blue}{\\texttt{1}} \\ \\ \\color{red}{\\texttt{1}} & &\n",
        "  15: \\ \\ \\ \\ \\color{orange}{\\texttt{1}} \\ \\ \\color{green}{\\texttt{1}} \\ \\ \\color{blue}{\\texttt{1}} \\ \\ \\color{red}{\\texttt{1}} \\\\\n",
        "\\end{align} %]]>"
      ],
      "metadata": {
        "id": "q-Putb9qsZ8w"
      }
    },
    {
      "cell_type": "markdown",
      "source": [
        "## References\n",
        "1. [A Gentle Introduction to Positional Encoding in Transformer Models, Part 1](https://machinelearningmastery.com/a-gentle-introduction-to-positional-encoding-in-transformer-models-part-1/)\n",
        "2. [Transformer Architecture: The Positional Encoding](https://kazemnejad.com/blog/transformer_architecture_positional_encoding/)\n",
        "3. [How Transformers Work: A Detailed Exploration of Transformer Architecture](https://www.datacamp.com/tutorial/how-transformers-work)\n",
        "4. [Visual Guide to Transformer Neural Networks - (Episode 1) Position Embeddings](https://www.youtube.com/watch?v=dichIcUZfOw)"
      ],
      "metadata": {
        "id": "sJMJa0oeo-k8"
      }
    },
    {
      "cell_type": "code",
      "source": [
        "import keras\n",
        "from tensorflow.keras.preprocessing.text import Tokenizer\n",
        "x = [\"Hello how are you?\"] # But if we use x = \"Hello how are you than the tokens are letters\n",
        "tokenizer = Tokenizer(num_words = 100, oov_token = \"<OOV>\")\n",
        "tokenizer.fit_on_texts(x)\n",
        "word_index = tokenizer.word_index\n",
        "sequences = tokenizer.texts_to_sequences(x)\n",
        "model = keras.Sequential()\n",
        "model.add(keras.layers.Embedding(1000, 64))"
      ],
      "metadata": {
        "id": "xOw-Rf7luUZd"
      },
      "execution_count": null,
      "outputs": []
    },
    {
      "cell_type": "code",
      "source": [
        "embed = keras.layers.Embedding(50_000, 3)\n",
        "embed(sequences)\n",
        "sequ"
      ],
      "metadata": {
        "colab": {
          "base_uri": "https://localhost:8080/",
          "height": 338
        },
        "id": "JLe4zDspu_DO",
        "outputId": "a6ed11a5-5ca3-48b3-dcbd-9b988beff94c"
      },
      "execution_count": null,
      "outputs": [
        {
          "output_type": "error",
          "ename": "ValueError",
          "evalue": "Only input tensors may be passed as positional arguments. The following argument value should be passed as a keyword argument: 2 (of type <class 'int'>)",
          "traceback": [
            "\u001b[0;31m---------------------------------------------------------------------------\u001b[0m",
            "\u001b[0;31mValueError\u001b[0m                                Traceback (most recent call last)",
            "\u001b[0;32m<ipython-input-18-74548b9dddaa>\u001b[0m in \u001b[0;36m<cell line: 2>\u001b[0;34m()\u001b[0m\n\u001b[1;32m      1\u001b[0m \u001b[0membed\u001b[0m \u001b[0;34m=\u001b[0m \u001b[0mkeras\u001b[0m\u001b[0;34m.\u001b[0m\u001b[0mlayers\u001b[0m\u001b[0;34m.\u001b[0m\u001b[0mEmbedding\u001b[0m\u001b[0;34m(\u001b[0m\u001b[0;36m50_000\u001b[0m\u001b[0;34m,\u001b[0m \u001b[0;36m3\u001b[0m\u001b[0;34m)\u001b[0m\u001b[0;34m\u001b[0m\u001b[0;34m\u001b[0m\u001b[0m\n\u001b[0;32m----> 2\u001b[0;31m \u001b[0membed\u001b[0m\u001b[0;34m(\u001b[0m\u001b[0msequences\u001b[0m\u001b[0;34m)\u001b[0m\u001b[0;34m\u001b[0m\u001b[0;34m\u001b[0m\u001b[0m\n\u001b[0m",
            "\u001b[0;32m/usr/local/lib/python3.10/dist-packages/keras/src/utils/traceback_utils.py\u001b[0m in \u001b[0;36merror_handler\u001b[0;34m(*args, **kwargs)\u001b[0m\n\u001b[1;32m    120\u001b[0m             \u001b[0;31m# To get the full stack trace, call:\u001b[0m\u001b[0;34m\u001b[0m\u001b[0;34m\u001b[0m\u001b[0m\n\u001b[1;32m    121\u001b[0m             \u001b[0;31m# `keras.config.disable_traceback_filtering()`\u001b[0m\u001b[0;34m\u001b[0m\u001b[0;34m\u001b[0m\u001b[0m\n\u001b[0;32m--> 122\u001b[0;31m             \u001b[0;32mraise\u001b[0m \u001b[0me\u001b[0m\u001b[0;34m.\u001b[0m\u001b[0mwith_traceback\u001b[0m\u001b[0;34m(\u001b[0m\u001b[0mfiltered_tb\u001b[0m\u001b[0;34m)\u001b[0m \u001b[0;32mfrom\u001b[0m \u001b[0;32mNone\u001b[0m\u001b[0;34m\u001b[0m\u001b[0;34m\u001b[0m\u001b[0m\n\u001b[0m\u001b[1;32m    123\u001b[0m         \u001b[0;32mfinally\u001b[0m\u001b[0;34m:\u001b[0m\u001b[0;34m\u001b[0m\u001b[0;34m\u001b[0m\u001b[0m\n\u001b[1;32m    124\u001b[0m             \u001b[0;32mdel\u001b[0m \u001b[0mfiltered_tb\u001b[0m\u001b[0;34m\u001b[0m\u001b[0;34m\u001b[0m\u001b[0m\n",
            "\u001b[0;32m/usr/local/lib/python3.10/dist-packages/keras/src/layers/layer.py\u001b[0m in \u001b[0;36m__call__\u001b[0;34m(self, *args, **kwargs)\u001b[0m\n\u001b[1;32m    806\u001b[0m                     \u001b[0;32mand\u001b[0m \u001b[0marg\u001b[0m \u001b[0;32mis\u001b[0m \u001b[0;32mnot\u001b[0m \u001b[0;32mNone\u001b[0m\u001b[0;34m\u001b[0m\u001b[0;34m\u001b[0m\u001b[0m\n\u001b[1;32m    807\u001b[0m                 ):\n\u001b[0;32m--> 808\u001b[0;31m                     raise ValueError(\n\u001b[0m\u001b[1;32m    809\u001b[0m                         \u001b[0;34m\"Only input tensors may be passed as \"\u001b[0m\u001b[0;34m\u001b[0m\u001b[0;34m\u001b[0m\u001b[0m\n\u001b[1;32m    810\u001b[0m                         \u001b[0;34m\"positional arguments. The following argument value \"\u001b[0m\u001b[0;34m\u001b[0m\u001b[0;34m\u001b[0m\u001b[0m\n",
            "\u001b[0;31mValueError\u001b[0m: Only input tensors may be passed as positional arguments. The following argument value should be passed as a keyword argument: 2 (of type <class 'int'>)"
          ]
        }
      ]
    },
    {
      "cell_type": "code",
      "source": [
        "import numpy as np\n",
        "sequences = np.array(sequences)\n",
        "embed(sequences)"
      ],
      "metadata": {
        "colab": {
          "base_uri": "https://localhost:8080/"
        },
        "id": "zHwavc0qvsZ-",
        "outputId": "835cd715-4bd7-4055-8334-8b60a1f06767"
      },
      "execution_count": null,
      "outputs": [
        {
          "output_type": "execute_result",
          "data": {
            "text/plain": [
              "<tf.Tensor: shape=(1, 4, 3), dtype=float32, numpy=\n",
              "array([[[ 0.04415027,  0.01178475,  0.03129861],\n",
              "        [ 0.02973295,  0.04911195,  0.0431701 ],\n",
              "        [ 0.03017138,  0.00770153,  0.03076973],\n",
              "        [-0.03575581,  0.04039863, -0.02979439]]], dtype=float32)>"
            ]
          },
          "metadata": {},
          "execution_count": 23
        }
      ]
    },
    {
      "cell_type": "code",
      "source": [
        "import torch\n",
        "import math\n",
        "\n",
        "# Parámetros del modelo\n",
        "d_model = 512  # Dimensión del vector de embedding\n",
        "max_len = 100  # Longitud máxima de la secuencia\n",
        "\n",
        "pe = torch.zeros(max_len, d_model)\n",
        "print(\"Matriz inicial de encodings posicionales (pe):\\\\n\", pe)\n",
        "\n",
        "position = torch.arange(0, max_len, dtype=torch.float).unsqueeze(1)\n",
        "print(\"Posiciones (position):\\\\n\", position)\n",
        "\n",
        "\n",
        "div_term = torch.exp(torch.arange(0,d_model, 2).float()*(-math.log(10000.0) / d_model))\n",
        "pe[:, 0::2] = torch.sin(position * div_term)\n",
        "pe[:, 1::2] = torch.cos(position * div_term)\n",
        "print(\"Matriz de encodings posicionales después de aplicar seno y coseno (pe):\\\\n\", pe)"
      ],
      "metadata": {
        "colab": {
          "base_uri": "https://localhost:8080/"
        },
        "id": "71dNxQOTt5H7",
        "outputId": "f32e08a6-bdec-483b-ffcc-901b56ee2d89"
      },
      "execution_count": null,
      "outputs": [
        {
          "output_type": "stream",
          "name": "stdout",
          "text": [
            "Matriz inicial de encodings posicionales (pe):\\n tensor([[0., 0., 0.,  ..., 0., 0., 0.],\n",
            "        [0., 0., 0.,  ..., 0., 0., 0.],\n",
            "        [0., 0., 0.,  ..., 0., 0., 0.],\n",
            "        ...,\n",
            "        [0., 0., 0.,  ..., 0., 0., 0.],\n",
            "        [0., 0., 0.,  ..., 0., 0., 0.],\n",
            "        [0., 0., 0.,  ..., 0., 0., 0.]])\n",
            "Posiciones (position):\\n tensor([[ 0.],\n",
            "        [ 1.],\n",
            "        [ 2.],\n",
            "        [ 3.],\n",
            "        [ 4.],\n",
            "        [ 5.],\n",
            "        [ 6.],\n",
            "        [ 7.],\n",
            "        [ 8.],\n",
            "        [ 9.],\n",
            "        [10.],\n",
            "        [11.],\n",
            "        [12.],\n",
            "        [13.],\n",
            "        [14.],\n",
            "        [15.],\n",
            "        [16.],\n",
            "        [17.],\n",
            "        [18.],\n",
            "        [19.],\n",
            "        [20.],\n",
            "        [21.],\n",
            "        [22.],\n",
            "        [23.],\n",
            "        [24.],\n",
            "        [25.],\n",
            "        [26.],\n",
            "        [27.],\n",
            "        [28.],\n",
            "        [29.],\n",
            "        [30.],\n",
            "        [31.],\n",
            "        [32.],\n",
            "        [33.],\n",
            "        [34.],\n",
            "        [35.],\n",
            "        [36.],\n",
            "        [37.],\n",
            "        [38.],\n",
            "        [39.],\n",
            "        [40.],\n",
            "        [41.],\n",
            "        [42.],\n",
            "        [43.],\n",
            "        [44.],\n",
            "        [45.],\n",
            "        [46.],\n",
            "        [47.],\n",
            "        [48.],\n",
            "        [49.],\n",
            "        [50.],\n",
            "        [51.],\n",
            "        [52.],\n",
            "        [53.],\n",
            "        [54.],\n",
            "        [55.],\n",
            "        [56.],\n",
            "        [57.],\n",
            "        [58.],\n",
            "        [59.],\n",
            "        [60.],\n",
            "        [61.],\n",
            "        [62.],\n",
            "        [63.],\n",
            "        [64.],\n",
            "        [65.],\n",
            "        [66.],\n",
            "        [67.],\n",
            "        [68.],\n",
            "        [69.],\n",
            "        [70.],\n",
            "        [71.],\n",
            "        [72.],\n",
            "        [73.],\n",
            "        [74.],\n",
            "        [75.],\n",
            "        [76.],\n",
            "        [77.],\n",
            "        [78.],\n",
            "        [79.],\n",
            "        [80.],\n",
            "        [81.],\n",
            "        [82.],\n",
            "        [83.],\n",
            "        [84.],\n",
            "        [85.],\n",
            "        [86.],\n",
            "        [87.],\n",
            "        [88.],\n",
            "        [89.],\n",
            "        [90.],\n",
            "        [91.],\n",
            "        [92.],\n",
            "        [93.],\n",
            "        [94.],\n",
            "        [95.],\n",
            "        [96.],\n",
            "        [97.],\n",
            "        [98.],\n",
            "        [99.]])\n",
            "Matriz de encodings posicionales después de aplicar seno y coseno (pe):\\n tensor([[ 0.0000e+00,  1.0000e+00,  0.0000e+00,  ...,  1.0000e+00,\n",
            "          0.0000e+00,  1.0000e+00],\n",
            "        [ 8.4147e-01,  5.4030e-01,  8.2186e-01,  ...,  1.0000e+00,\n",
            "          1.0366e-04,  1.0000e+00],\n",
            "        [ 9.0930e-01, -4.1615e-01,  9.3641e-01,  ...,  1.0000e+00,\n",
            "          2.0733e-04,  1.0000e+00],\n",
            "        ...,\n",
            "        [ 3.7961e-01, -9.2515e-01, -6.2537e-01,  ...,  9.9995e-01,\n",
            "          1.0055e-02,  9.9995e-01],\n",
            "        [-5.7338e-01, -8.1929e-01,  2.8505e-01,  ...,  9.9994e-01,\n",
            "          1.0159e-02,  9.9995e-01],\n",
            "        [-9.9921e-01,  3.9821e-02,  9.5015e-01,  ...,  9.9994e-01,\n",
            "          1.0262e-02,  9.9995e-01]])\n"
          ]
        }
      ]
    },
    {
      "cell_type": "code",
      "source": [
        "pe = pe.unsqueeze(0).transpose(0,1)\n",
        "\n",
        "pe[:x."
      ],
      "metadata": {
        "colab": {
          "base_uri": "https://localhost:8080/",
          "height": 185
        },
        "id": "S7Kn4SMauabC",
        "outputId": "02d05a4a-5a18-4edb-a637-28aed72f4cb8"
      },
      "execution_count": null,
      "outputs": [
        {
          "output_type": "error",
          "ename": "NameError",
          "evalue": "name 'self' is not defined",
          "traceback": [
            "\u001b[0;31m---------------------------------------------------------------------------\u001b[0m",
            "\u001b[0;31mNameError\u001b[0m                                 Traceback (most recent call last)",
            "\u001b[0;32m<ipython-input-45-50249d0f60df>\u001b[0m in \u001b[0;36m<cell line: 3>\u001b[0;34m()\u001b[0m\n\u001b[1;32m      1\u001b[0m \u001b[0mpe\u001b[0m \u001b[0;34m=\u001b[0m \u001b[0mpe\u001b[0m\u001b[0;34m.\u001b[0m\u001b[0munsqueeze\u001b[0m\u001b[0;34m(\u001b[0m\u001b[0;36m0\u001b[0m\u001b[0;34m)\u001b[0m\u001b[0;34m.\u001b[0m\u001b[0mtranspose\u001b[0m\u001b[0;34m(\u001b[0m\u001b[0;36m0\u001b[0m\u001b[0;34m,\u001b[0m\u001b[0;36m1\u001b[0m\u001b[0;34m)\u001b[0m\u001b[0;34m\u001b[0m\u001b[0;34m\u001b[0m\u001b[0m\n\u001b[1;32m      2\u001b[0m \u001b[0;34m\u001b[0m\u001b[0m\n\u001b[0;32m----> 3\u001b[0;31m \u001b[0mself\u001b[0m\u001b[0;34m.\u001b[0m\u001b[0mpe\u001b[0m\u001b[0;34m\u001b[0m\u001b[0;34m\u001b[0m\u001b[0m\n\u001b[0m",
            "\u001b[0;31mNameError\u001b[0m: name 'self' is not defined"
          ]
        }
      ]
    },
    {
      "cell_type": "markdown",
      "source": [
        "# References\n",
        "* [How to choose the right embedding model for your LLM applicaiton](https://medium.com/@ashutoshs81127/how-to-choose-the-right-embedding-model-for-your-llm-application-7f5b257fd389)"
      ],
      "metadata": {
        "id": "NWRv_gSpPX_g"
      }
    }
  ]
}